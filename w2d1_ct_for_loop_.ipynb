{
  "nbformat": 4,
  "nbformat_minor": 0,
  "metadata": {
    "colab": {
      "provenance": []
    },
    "kernelspec": {
      "name": "python3",
      "display_name": "Python 3"
    },
    "language_info": {
      "name": "python"
    }
  },
  "cells": [
    {
      "cell_type": "code",
      "execution_count": null,
      "metadata": {
        "colab": {
          "base_uri": "https://localhost:8080/"
        },
        "id": "ZL70eHVxEEVf",
        "outputId": "aa472fdc-4113-4335-9475-321cf885ea68"
      },
      "outputs": [
        {
          "output_type": "stream",
          "name": "stdout",
          "text": [
            "10\n",
            "20\n",
            "30\n",
            "40\n",
            "50\n"
          ]
        }
      ],
      "source": [
        "# loops :avoid repeating logic .\n",
        "# kinds of loops : for , while .\n",
        "# syntax of for loops :\n",
        "#                       colon at the end of for statement .\n",
        "#                       logic with in proper indentation .\n",
        "#                       used with in : list ,tuple ,set , dictionary , range .\n",
        "List_Of_number = [10,20,30,40,50]\n",
        "for number in List_Of_number :\n",
        "  print(number)"
      ]
    },
    {
      "cell_type": "code",
      "source": [
        "listN = [10,20,30,40,50]\n",
        "for number in listN :\n",
        "  print(number)\n",
        "  print(\"hello\")\n",
        "print(\"world\")\n",
        "#here the world is printed at last and just once because its not indented in the for loop .\n"
      ],
      "metadata": {
        "colab": {
          "base_uri": "https://localhost:8080/"
        },
        "id": "-vx32CdFIMIc",
        "outputId": "c6e8ce61-00ff-4f39-b1cd-c92675d8c783"
      },
      "execution_count": null,
      "outputs": [
        {
          "output_type": "stream",
          "name": "stdout",
          "text": [
            "10\n",
            "hello\n",
            "20\n",
            "hello\n",
            "30\n",
            "hello\n",
            "40\n",
            "hello\n",
            "50\n",
            "hello\n",
            "world\n"
          ]
        }
      ]
    },
    {
      "cell_type": "code",
      "source": [
        "listN = [10,20,30,40,50]\n",
        "for number in listN :\n",
        "  print(number)\n",
        "  print(\"hello\")\n",
        "  print(\"world\")\n",
        "# Here the world is printed in every line because its indented in the for loop."
      ],
      "metadata": {
        "colab": {
          "base_uri": "https://localhost:8080/"
        },
        "id": "RGF5V9lpLqze",
        "outputId": "e3dc0246-89c9-4623-82f2-6bedae74b060"
      },
      "execution_count": null,
      "outputs": [
        {
          "output_type": "stream",
          "name": "stdout",
          "text": [
            "10\n",
            "hello\n",
            "world\n",
            "20\n",
            "hello\n",
            "world\n",
            "30\n",
            "hello\n",
            "world\n",
            "40\n",
            "hello\n",
            "world\n",
            "50\n",
            "hello\n",
            "world\n"
          ]
        }
      ]
    },
    {
      "cell_type": "code",
      "source": [
        "lname = [\"shah jahan\",\"Mumtazz\",\"vamika\",\"aridhiya\",\"Raha\"]\n",
        "for names in lname :\n",
        "  print(names)"
      ],
      "metadata": {
        "colab": {
          "base_uri": "https://localhost:8080/"
        },
        "id": "tu4nAgLvL9GX",
        "outputId": "d7623c5d-d057-4c09-859b-a564bed9962e"
      },
      "execution_count": 1,
      "outputs": [
        {
          "output_type": "stream",
          "name": "stdout",
          "text": [
            "shah jahan\n",
            "Mumtazz\n",
            "vamika\n",
            "aridhiya\n",
            "Raha\n"
          ]
        }
      ]
    },
    {
      "cell_type": "code",
      "source": [
        "listN = [1,2,3,4,5]\n",
        "for n in listN :\n",
        "  if n%2 == 0:\n",
        "    print(f\"{n} is even.\")\n",
        "  else:\n",
        "    print(f\"{n} is odd.\")"
      ],
      "metadata": {
        "colab": {
          "base_uri": "https://localhost:8080/"
        },
        "id": "JZo-CkW2Nrqd",
        "outputId": "a9756fa2-77e3-4129-89d5-80c4e9774565"
      },
      "execution_count": null,
      "outputs": [
        {
          "output_type": "stream",
          "name": "stdout",
          "text": [
            "1 is odd.\n",
            "2 is even.\n",
            "3 is odd.\n",
            "4 is even.\n",
            "5 is odd.\n"
          ]
        }
      ]
    },
    {
      "cell_type": "code",
      "source": [
        "listN = [1,2,3,4,5]\n",
        "sum = 0\n",
        "for n in listN :\n",
        "    sum = sum + n\n",
        "print(sum)  # to avoid printing the looping value print is written out side the loop."
      ],
      "metadata": {
        "colab": {
          "base_uri": "https://localhost:8080/"
        },
        "id": "MGxTShooPQYS",
        "outputId": "e0b2b1bd-e5ff-4e02-cbd1-c220b10e43a7"
      },
      "execution_count": null,
      "outputs": [
        {
          "output_type": "stream",
          "name": "stdout",
          "text": [
            "15\n"
          ]
        }
      ]
    },
    {
      "cell_type": "code",
      "source": [
        "listN = [1,2,3,4,5]\n",
        "sum = 0\n",
        "for n in listN :\n",
        "  if n%2 == 1:\n",
        "    sum = sum + n\n",
        "print(sum)\n"
      ],
      "metadata": {
        "colab": {
          "base_uri": "https://localhost:8080/"
        },
        "id": "U19W5yUmRGw6",
        "outputId": "8af43563-0f15-4354-a63f-2ee6954cad80"
      },
      "execution_count": null,
      "outputs": [
        {
          "output_type": "stream",
          "name": "stdout",
          "text": [
            "9\n"
          ]
        }
      ]
    },
    {
      "cell_type": "code",
      "source": [
        "listN = [1,2,3,4,5]\n",
        "product = 1\n",
        "for n in listN :\n",
        "    product = product * n\n",
        "print(product)"
      ],
      "metadata": {
        "colab": {
          "base_uri": "https://localhost:8080/"
        },
        "id": "6gLxncLtQpD2",
        "outputId": "03b62b7f-bbee-44a7-ad39-6e69b1eb9e42"
      },
      "execution_count": null,
      "outputs": [
        {
          "output_type": "stream",
          "name": "stdout",
          "text": [
            "120\n"
          ]
        }
      ]
    },
    {
      "cell_type": "code",
      "source": [
        "# Take a input from the user and verify if that number is present in the given list .\n",
        "listOfNumbers = [1,2,3,4,5]\n",
        "present = 0\n",
        "a = int(input(\"Enter a number\"))\n",
        "for number in listOfNumbers:\n",
        "  if a == number :\n",
        "    present != 0\n",
        "    print(\"Number Exists:\")\n",
        "if a != number :\n",
        "    present == 0\n",
        "    print(\"Number does not Exists:\")\n"
      ],
      "metadata": {
        "colab": {
          "base_uri": "https://localhost:8080/"
        },
        "id": "7L0K7XqOTAZZ",
        "outputId": "f069f90e-ce3c-41cf-85d3-e6adb7340004"
      },
      "execution_count": null,
      "outputs": [
        {
          "output_type": "stream",
          "name": "stdout",
          "text": [
            "Enter a number5\n",
            "Number Exists:\n"
          ]
        }
      ]
    },
    {
      "cell_type": "code",
      "source": [
        "##############################################################################################################\n",
        "# Range\n",
        "sum = 0\n",
        "for i in range(105):\n",
        "  sum = sum + i\n",
        "  #print(sum)\n",
        "print(sum)\n"
      ],
      "metadata": {
        "colab": {
          "base_uri": "https://localhost:8080/"
        },
        "id": "g-_N-_LArkNA",
        "outputId": "43c6bed6-ff38-486f-c703-ea175db4fc09"
      },
      "execution_count": null,
      "outputs": [
        {
          "output_type": "stream",
          "name": "stdout",
          "text": [
            "5460\n"
          ]
        }
      ]
    },
    {
      "cell_type": "code",
      "source": [
        "#range\n",
        "for i in range(5,11):\n",
        "  print(i)"
      ],
      "metadata": {
        "colab": {
          "base_uri": "https://localhost:8080/"
        },
        "id": "hnJx_JZ-tOid",
        "outputId": "d50e55f2-ba67-422c-fe20-a886922957f1"
      },
      "execution_count": null,
      "outputs": [
        {
          "output_type": "stream",
          "name": "stdout",
          "text": [
            "5\n",
            "6\n",
            "7\n",
            "8\n",
            "9\n",
            "10\n"
          ]
        }
      ]
    },
    {
      "cell_type": "code",
      "source": [
        "# here 5 = starting point , 11 = ending point , 3 = increment of 3\n",
        "for i in range(5,19,3):\n",
        "  print(i)"
      ],
      "metadata": {
        "colab": {
          "base_uri": "https://localhost:8080/"
        },
        "id": "KkamAVgDxBt3",
        "outputId": "b4230e4e-54b3-4459-88c6-0e0756907bba"
      },
      "execution_count": null,
      "outputs": [
        {
          "output_type": "stream",
          "name": "stdout",
          "text": [
            "5\n",
            "8\n",
            "11\n",
            "14\n",
            "17\n"
          ]
        }
      ]
    },
    {
      "cell_type": "code",
      "source": [
        "for i in range (1,5):\n",
        "  for j in range(1,11):\n",
        "    k = i * j\n",
        "    print(f\"{i}*{j}={k}\")\n",
        "  print()"
      ],
      "metadata": {
        "colab": {
          "base_uri": "https://localhost:8080/"
        },
        "id": "T5lre_VYvrXG",
        "outputId": "0e19383c-ad5e-4a43-8097-c529014816cb"
      },
      "execution_count": null,
      "outputs": [
        {
          "output_type": "stream",
          "name": "stdout",
          "text": [
            "1*1=1\n",
            "1*2=2\n",
            "1*3=3\n",
            "1*4=4\n",
            "1*5=5\n",
            "1*6=6\n",
            "1*7=7\n",
            "1*8=8\n",
            "1*9=9\n",
            "1*10=10\n",
            "\n",
            "2*1=2\n",
            "2*2=4\n",
            "2*3=6\n",
            "2*4=8\n",
            "2*5=10\n",
            "2*6=12\n",
            "2*7=14\n",
            "2*8=16\n",
            "2*9=18\n",
            "2*10=20\n",
            "\n",
            "3*1=3\n",
            "3*2=6\n",
            "3*3=9\n",
            "3*4=12\n",
            "3*5=15\n",
            "3*6=18\n",
            "3*7=21\n",
            "3*8=24\n",
            "3*9=27\n",
            "3*10=30\n",
            "\n",
            "4*1=4\n",
            "4*2=8\n",
            "4*3=12\n",
            "4*4=16\n",
            "4*5=20\n",
            "4*6=24\n",
            "4*7=28\n",
            "4*8=32\n",
            "4*9=36\n",
            "4*10=40\n",
            "\n"
          ]
        }
      ]
    },
    {
      "cell_type": "code",
      "source": [
        "n = int(input())\n",
        "for i in range(n):\n",
        "  for j in range(i+1):\n",
        "    print(\"*\" , end = \" \")\n",
        "  print()\n"
      ],
      "metadata": {
        "colab": {
          "base_uri": "https://localhost:8080/"
        },
        "id": "P9OSpUBJycVO",
        "outputId": "32b8905d-aa63-4bc9-c581-a73afa1e260c"
      },
      "execution_count": null,
      "outputs": [
        {
          "output_type": "stream",
          "name": "stdout",
          "text": [
            "5\n",
            "* \n",
            "* * \n",
            "* * * \n",
            "* * * * \n",
            "* * * * * \n"
          ]
        }
      ]
    },
    {
      "cell_type": "code",
      "source": [
        "# the above code explanation\n",
        "n = 4\n",
        "i = 1\n",
        "j = i = 1\n",
        "print(\"*\",end = \" \")\n",
        "j = 2\n",
        "print(\"*\",end = \" \")\n",
        "j = 3\n",
        "print(\"*\",end = \" \")\n",
        "print()\n",
        "\n",
        "i = 2\n",
        "j = i = 2\n",
        "print(\"*\",end = \" \")\n",
        "j = 3\n",
        "print(\"*\",end = \" \")\n",
        "print()\n",
        "\n",
        "i = 3\n",
        "j = i = 3\n",
        "print(\"*\",end = \" \")\n"
      ],
      "metadata": {
        "colab": {
          "base_uri": "https://localhost:8080/"
        },
        "id": "5r5KVkDG3BNM",
        "outputId": "8f6732ae-8c41-453e-f02d-4df3a886b694"
      },
      "execution_count": null,
      "outputs": [
        {
          "output_type": "stream",
          "name": "stdout",
          "text": [
            "* * * \n",
            "* * \n",
            "* "
          ]
        }
      ]
    },
    {
      "cell_type": "code",
      "source": [
        "n = int(input())\n",
        "for i in range(n):\n",
        "  for j in range(i,n): # space is given in decreasing pattern.\n",
        "   print(\" \" , end = \" \")\n",
        "  for k in range(i+1): # star are given in increasing pattern.\n",
        "   print(\"*\", end = \" \")\n",
        "  print()"
      ],
      "metadata": {
        "colab": {
          "base_uri": "https://localhost:8080/"
        },
        "id": "7g6QIH7B3rN6",
        "outputId": "5d8f8475-7ffb-4c33-8d85-8a3a759e6dd4"
      },
      "execution_count": null,
      "outputs": [
        {
          "output_type": "stream",
          "name": "stdout",
          "text": [
            "4\n",
            "        * \n",
            "      * * \n",
            "    * * * \n",
            "  * * * * \n"
          ]
        }
      ]
    },
    {
      "cell_type": "code",
      "source": [
        "n = int(input())\n",
        "for i in range(n):\n",
        "  for j in range(n): # space is given in decreasing pattern.\n",
        "   if i == 0 or i == n-1 or j == 0 or j == n-1:\n",
        "     print(\"*\", end = \" \")\n",
        "   else :\n",
        "    print(\" \" , end = \" \")\n",
        "  print()"
      ],
      "metadata": {
        "colab": {
          "base_uri": "https://localhost:8080/"
        },
        "id": "4uFtDYgj895U",
        "outputId": "067b142a-2846-48d5-f5d5-24de4fed7896"
      },
      "execution_count": null,
      "outputs": [
        {
          "output_type": "stream",
          "name": "stdout",
          "text": [
            "5\n",
            "* * * * * \n",
            "*       * \n",
            "*       * \n",
            "*       * \n",
            "* * * * * \n"
          ]
        }
      ]
    },
    {
      "cell_type": "code",
      "source": [
        "# fibonachi series\n",
        "a = 0\n",
        "b = 1\n",
        "for i in range(7):\n",
        "  print(a)\n",
        "  c = a + b\n",
        "  a = b\n",
        "  b = c\n"
      ],
      "metadata": {
        "colab": {
          "base_uri": "https://localhost:8080/"
        },
        "id": "DJsIcYBDHmb6",
        "outputId": "a96ed4df-423f-4ccd-e36b-b5aeadff9e79"
      },
      "execution_count": null,
      "outputs": [
        {
          "output_type": "stream",
          "name": "stdout",
          "text": [
            "0\n",
            "1\n",
            "1\n",
            "2\n",
            "3\n",
            "5\n",
            "8\n"
          ]
        }
      ]
    },
    {
      "cell_type": "code",
      "source": [
        "#display the sum of all multiples of 13 between 100 and 500\n",
        "sum = 0\n",
        "for i in range(100,500):\n",
        "  if i%13 == 0 :\n",
        "    sum = sum + i\n",
        "print(sum)"
      ],
      "metadata": {
        "colab": {
          "base_uri": "https://localhost:8080/"
        },
        "id": "1cnehrbpxoWA",
        "outputId": "178ff9a8-5df9-4a15-e0ad-b987ecc2ba8e"
      },
      "execution_count": null,
      "outputs": [
        {
          "output_type": "stream",
          "name": "stdout",
          "text": [
            "9269\n"
          ]
        }
      ]
    },
    {
      "cell_type": "code",
      "source": [
        "# display the count of 'o' in the string 'Odin school'\n",
        "mystr = \"Odin school\"\n",
        "count = 0\n",
        "for mychar in mystr:\n",
        "  if mychar == 'o' or mychar == 'O':\n",
        "    count = count + 1\n",
        "print(count)\n"
      ],
      "metadata": {
        "colab": {
          "base_uri": "https://localhost:8080/"
        },
        "id": "8oiRSIX91Cmj",
        "outputId": "a732fc8c-f6e0-49d7-8f62-f8b1105b38a6"
      },
      "execution_count": null,
      "outputs": [
        {
          "output_type": "stream",
          "name": "stdout",
          "text": [
            "3\n"
          ]
        }
      ]
    },
    {
      "cell_type": "code",
      "source": [
        "# Display the count of vovels in the string 'odin school'.\n",
        "mystring = \"Odin school\"\n",
        "count = 0\n",
        "for i in mystring:\n",
        "  if i == \"a\" or i == \"e\" or i == \"i\" or i == \"o\" or i == \"u\" or i == \"A\" or i == \"E\" or i == \"I\" or i == \"O\" or i == \"U\" :\n",
        "   count = count + 1\n",
        "print(count)\n",
        "\n"
      ],
      "metadata": {
        "id": "CqfcUo8E2rzh",
        "colab": {
          "base_uri": "https://localhost:8080/"
        },
        "outputId": "991f7ba9-a917-4fd0-c468-d947e31c03d6"
      },
      "execution_count": null,
      "outputs": [
        {
          "output_type": "stream",
          "name": "stdout",
          "text": [
            "4\n"
          ]
        }
      ]
    },
    {
      "cell_type": "code",
      "source": [
        "# Take a input from the user and verify if that number is present in the given list .\n",
        "# Do the operation using <in> operator\n",
        "listOfNumbers = [1,2,3,4,5]\n",
        "a = int(input(\"Enter a number\"))\n",
        "if a in listOfNumbers:    # <in> operator is used, in <if> statement .\n",
        "    print(\"Number Exists.\")\n",
        "else :\n",
        "    print(\"Number does not Exists.\")\n"
      ],
      "metadata": {
        "colab": {
          "base_uri": "https://localhost:8080/"
        },
        "id": "IH3sZuUCWWXK",
        "outputId": "14928b2c-51ee-4dd3-da5e-79b77501ede6"
      },
      "execution_count": null,
      "outputs": [
        {
          "output_type": "stream",
          "name": "stdout",
          "text": [
            "Enter a number9\n",
            "Number does not Exists.\n"
          ]
        }
      ]
    },
    {
      "cell_type": "code",
      "source": [
        "# Display the count of vovels in the string 'odin school'.\n",
        "mystring = \"Odin school\"\n",
        "vowels = [\"a\",\"e\",\"i\",\"o\",\"u\",\"A\",\"E\",\"I\",\"O\",\"U\"]\n",
        "count = 0\n",
        "for i in mystring:\n",
        "  if i in vowels:\n",
        "   count = count + 1\n",
        "print(count)\n"
      ],
      "metadata": {
        "colab": {
          "base_uri": "https://localhost:8080/"
        },
        "id": "AIpITww_bOmW",
        "outputId": "65f32702-0345-4e32-d454-b29676528bb3"
      },
      "execution_count": null,
      "outputs": [
        {
          "output_type": "stream",
          "name": "stdout",
          "text": [
            "4\n"
          ]
        }
      ]
    },
    {
      "cell_type": "code",
      "source": [
        "# Display the count of vovels in the string 'odin school' with out using <in> operator.\n",
        "mystring = \"Odin school\"\n",
        "vowels = [\"a\",\"e\",\"i\",\"o\",\"u\",\"A\",\"E\",\"I\",\"O\",\"U\"]\n",
        "count = 0\n",
        "for i in mystring:\n",
        "  for vowel in vowels:\n",
        "    if i == vowel: # no use of <in> operator\n",
        "       count = count + 1\n",
        "print(count)\n"
      ],
      "metadata": {
        "colab": {
          "base_uri": "https://localhost:8080/"
        },
        "id": "JijHtGOIeq5E",
        "outputId": "fd8c7389-c0e3-4da3-ce44-09296c5e208b"
      },
      "execution_count": null,
      "outputs": [
        {
          "output_type": "stream",
          "name": "stdout",
          "text": [
            "4\n"
          ]
        }
      ]
    },
    {
      "cell_type": "markdown",
      "source": [
        "Task 1\n",
        "\n",
        "Write a Python program that takes a temperature in Celsius as input and converts it to Fahrenheit. If the temperature is above 100°F, print \"Very hot,\" if it's between 80°F and 100°F, print \"Hot,\" and if it's below 80°F, print \"Moderate.\n",
        "\n",
        "\n",
        "\n"
      ],
      "metadata": {
        "id": "kkbZy2iOkINN"
      }
    },
    {
      "cell_type": "code",
      "source": [
        "C = int(input())\n",
        "F = (C *( 9/5)) + 32\n",
        "if F > 100 :\n",
        "  print(\"Very hot\")\n",
        "elif F > 80 and F < 100 :\n",
        "  print(\"Hot\")\n",
        "elif F < 80:\n",
        "  print(\"Moderate\")\n",
        "else :\n",
        "  print(\"Inappropriate input...! \")"
      ],
      "metadata": {
        "colab": {
          "base_uri": "https://localhost:8080/"
        },
        "id": "VHTmE26SPRXX",
        "outputId": "22730553-4503-4b50-8712-12d8a9b50664"
      },
      "execution_count": null,
      "outputs": [
        {
          "output_type": "stream",
          "name": "stdout",
          "text": [
            "45\n",
            "Very hot\n"
          ]
        }
      ]
    },
    {
      "cell_type": "markdown",
      "source": [
        "Task 2\n",
        "\n",
        "Write a Python program to categorize an employee's performance based on their monthly sales. Print \"Excellent\" for sales over 10,000,\"Good\"for sales between 5,000 and 10,000,\"Average\"for sales between 2,000 and 5,000,and \"Poor\" for sales below 2,000."
      ],
      "metadata": {
        "id": "D5RAwuCSPaiu"
      }
    },
    {
      "cell_type": "code",
      "source": [
        "MS = int(input())\n",
        "if MS > 10000:\n",
        "  print(\"Excelllent\")\n",
        "elif MS > 5000 and MS < 10000:\n",
        "  print(\"Good\")\n",
        "elif MS >2000 and MS < 5000 :\n",
        "  print(\"Employee's performance: Average\")\n",
        "elif MS > 2000:\n",
        "  print(\"Poor\")\n",
        "else :\n",
        "  print(\"IN appropriate input..!\")"
      ],
      "metadata": {
        "id": "AAfT48mxkoLL",
        "colab": {
          "base_uri": "https://localhost:8080/"
        },
        "outputId": "8137cc73-961c-4078-b74a-59a02e04a6aa"
      },
      "execution_count": null,
      "outputs": [
        {
          "output_type": "stream",
          "name": "stdout",
          "text": [
            "3400\n",
            "Employee's performance: Average\n"
          ]
        }
      ]
    },
    {
      "cell_type": "markdown",
      "source": [
        "PFC21.1\n",
        "\n",
        "5.1. V1 - Foundation-W2D1-CT\n",
        "\n",
        "Task 1\n",
        "\n",
        "Write a Python program to calculate the sum of all even numbers from 1 to 50 using a for loop."
      ],
      "metadata": {
        "id": "dzrdAjk2Q0Wi"
      }
    },
    {
      "cell_type": "code",
      "source": [
        "sum = 0\n",
        "for i in range(1,51) :\n",
        "  if i%2 == 0 :\n",
        "    sum = sum + i\n",
        "print(f\"The sum of even numbers from 1 to 50 is: {sum} \")\n"
      ],
      "metadata": {
        "colab": {
          "base_uri": "https://localhost:8080/"
        },
        "id": "Skpx7kfiQ-tG",
        "outputId": "0bb1129f-2846-4f2e-e536-243c03b84267"
      },
      "execution_count": null,
      "outputs": [
        {
          "output_type": "stream",
          "name": "stdout",
          "text": [
            "The sum of even numbers from 1 to 50 is: 650 \n"
          ]
        }
      ]
    },
    {
      "cell_type": "markdown",
      "source": [
        "Task 2\n",
        "\n",
        "Write a Python program to find the factorial of a number using a for loop."
      ],
      "metadata": {
        "id": "laHOFb_3Pnus"
      }
    },
    {
      "cell_type": "code",
      "source": [
        "\"\"\" formula for factorial :\n",
        "              (n)factorial = n! = n * (n-1) * (n-2) * .... * 1\n",
        "              \"\"\"\n",
        "n = int(input())\n",
        "factorial = 1\n",
        "for i in range(1,n+1):\n",
        "  factorial = factorial * i\n",
        "print(f\"The factorial of 5 is: {factorial}\")"
      ],
      "metadata": {
        "colab": {
          "base_uri": "https://localhost:8080/"
        },
        "id": "oReHDfAhQf3V",
        "outputId": "aa5187c7-ffe3-48fe-fd43-ccb4b5bad075"
      },
      "execution_count": null,
      "outputs": [
        {
          "output_type": "stream",
          "name": "stdout",
          "text": [
            "5\n",
            "The factorial of 5 is: 120\n"
          ]
        }
      ]
    },
    {
      "cell_type": "markdown",
      "source": [
        "Task 3\n",
        "\n",
        "Write a Python program to print a pattern of asterisks using nested for loops."
      ],
      "metadata": {
        "id": "N1Y7jTSrRFeC"
      }
    },
    {
      "cell_type": "code",
      "source": [
        "for i in range(5):\n",
        "  print(\"*\")"
      ],
      "metadata": {
        "colab": {
          "base_uri": "https://localhost:8080/"
        },
        "id": "m6R_Fui9T45N",
        "outputId": "3f8971ec-a6fb-4921-98db-f705dc61a65d"
      },
      "execution_count": null,
      "outputs": [
        {
          "output_type": "stream",
          "name": "stdout",
          "text": [
            "*\n",
            "*\n",
            "*\n",
            "*\n",
            "*\n"
          ]
        }
      ]
    },
    {
      "cell_type": "code",
      "source": [
        "for i in range(5):\n",
        "  print(\"*\",end = \" \") # here fter the end of the line insted of new line space is added ."
      ],
      "metadata": {
        "colab": {
          "base_uri": "https://localhost:8080/"
        },
        "id": "mjT-EYJySPel",
        "outputId": "a825e1db-fe23-4b50-843a-dbd8da3749c3"
      },
      "execution_count": null,
      "outputs": [
        {
          "output_type": "stream",
          "name": "stdout",
          "text": [
            "* * * * * "
          ]
        }
      ]
    },
    {
      "cell_type": "code",
      "source": [
        "# * * *\n",
        "# * * *\n",
        "# * * *\n",
        "for i in range(3):\n",
        "  print('*', end =' ')\n",
        "for i in range(3):\n",
        "  print('*', end =' ')\n",
        "for i in range(3):\n",
        "  print('*', end =' ')"
      ],
      "metadata": {
        "colab": {
          "base_uri": "https://localhost:8080/"
        },
        "id": "Fyj26qdrSfCL",
        "outputId": "4f0a1dd6-8366-4f70-f579-222f872eb2c8"
      },
      "execution_count": null,
      "outputs": [
        {
          "output_type": "stream",
          "name": "stdout",
          "text": [
            "* * * * * * * * * "
          ]
        }
      ]
    },
    {
      "cell_type": "code",
      "source": [
        "# * * *\n",
        "# * * *\n",
        "# * * *\n",
        "for i in range(3):\n",
        "  print('*', end =' ')\n",
        "print()  # takes the curser to the next line .\n",
        "\n",
        "for i in range(3):\n",
        "  print('*', end =' ')\n",
        "print()\n",
        "\n",
        "for i in range(3):\n",
        "  print('*', end =' ')\n",
        "print()"
      ],
      "metadata": {
        "colab": {
          "base_uri": "https://localhost:8080/"
        },
        "id": "o_ntNl3-U44P",
        "outputId": "a8fd2fc4-e13d-4c93-c169-dec12a2e8c8c"
      },
      "execution_count": null,
      "outputs": [
        {
          "output_type": "stream",
          "name": "stdout",
          "text": [
            "* * * \n",
            "* * * \n",
            "* * * \n"
          ]
        }
      ]
    },
    {
      "cell_type": "code",
      "source": [
        "# in the above code there is repeatation of the code so there we can write the for loop\n",
        "for i in range(3):\n",
        "  for i in range(3):\n",
        "    print('*',end = ' ')\n",
        "  print()"
      ],
      "metadata": {
        "colab": {
          "base_uri": "https://localhost:8080/"
        },
        "id": "O9OsKRwXWcTw",
        "outputId": "ecccaa64-4ac4-4952-d1f5-cff632d6e1d9"
      },
      "execution_count": null,
      "outputs": [
        {
          "output_type": "stream",
          "name": "stdout",
          "text": [
            "* * * \n",
            "* * * \n",
            "* * * \n"
          ]
        }
      ]
    },
    {
      "cell_type": "markdown",
      "source": [
        "THE USE OF NESTED FOR LOOP .\n",
        "\n",
        "NESTED FOR LOOP :\n",
        "                 for loop in\n",
        "                    for loop\n",
        "                      "
      ],
      "metadata": {
        "id": "-_CRcJIq9vdT"
      }
    },
    {
      "cell_type": "code",
      "source": [
        "for i in range(3):\n",
        "  for j in range(3):\n",
        "    print(i,end = ' ')\n",
        "  print()"
      ],
      "metadata": {
        "colab": {
          "base_uri": "https://localhost:8080/"
        },
        "id": "moeM7QYVVM8q",
        "outputId": "48e7fc11-e275-4342-df27-c7a0ffd08824"
      },
      "execution_count": null,
      "outputs": [
        {
          "output_type": "stream",
          "name": "stdout",
          "text": [
            "0 0 0 \n",
            "1 1 1 \n",
            "2 2 2 \n"
          ]
        }
      ]
    },
    {
      "cell_type": "code",
      "source": [
        "for i in range(3):\n",
        "  for j in range(4):\n",
        "    print(j,end = ' ')\n",
        "  print()"
      ],
      "metadata": {
        "colab": {
          "base_uri": "https://localhost:8080/"
        },
        "id": "Eiv3jz_QbwPR",
        "outputId": "b1d396dd-0969-4a22-8c87-0cfb0803919c"
      },
      "execution_count": null,
      "outputs": [
        {
          "output_type": "stream",
          "name": "stdout",
          "text": [
            "0 1 2 3 \n",
            "0 1 2 3 \n",
            "0 1 2 3 \n"
          ]
        }
      ]
    },
    {
      "cell_type": "code",
      "source": [
        "for i in range(3):\n",
        "  for j in range(4):\n",
        "    print(j+1,end = ' ')\n",
        "  print()"
      ],
      "metadata": {
        "colab": {
          "base_uri": "https://localhost:8080/"
        },
        "id": "00zbTDL-bwS4",
        "outputId": "4c0d1d34-8fbd-49fd-c033-3ae620d087a8"
      },
      "execution_count": null,
      "outputs": [
        {
          "output_type": "stream",
          "name": "stdout",
          "text": [
            "1 2 3 4 \n",
            "1 2 3 4 \n",
            "1 2 3 4 \n"
          ]
        }
      ]
    },
    {
      "cell_type": "code",
      "source": [
        "for i in range(3):\n",
        "  for j in range(4):\n",
        "    print(i+1,end = ' ')\n",
        "  print()"
      ],
      "metadata": {
        "colab": {
          "base_uri": "https://localhost:8080/"
        },
        "id": "WFYeM7o1glpd",
        "outputId": "31ad6a5b-7794-42e4-ce29-d11de9a998dc"
      },
      "execution_count": null,
      "outputs": [
        {
          "output_type": "stream",
          "name": "stdout",
          "text": [
            "1 1 1 1 \n",
            "2 2 2 2 \n",
            "3 3 3 3 \n"
          ]
        }
      ]
    },
    {
      "cell_type": "code",
      "source": [
        "# the above program logic\n",
        "i=1\n",
        "j=1\n",
        "print(i,end = ' ')\n",
        "j=2\n",
        "print(i,end = ' ')\n",
        "j=3\n",
        "print(i,end = ' ')\n",
        "j=4\n",
        "print(i,end = ' ')\n",
        "print()\n",
        "\n",
        "i = 2\n",
        "j=1\n",
        "print(i,end = ' ')\n",
        "j=2\n",
        "print(i,end = ' ')\n",
        "j=3\n",
        "print(i,end = ' ')\n",
        "j=4\n",
        "print(i,end = ' ')\n",
        "print()\n",
        "\n",
        "i=3\n",
        "j=1\n",
        "print(i,end = ' ')\n",
        "j=2\n",
        "print(i,end = ' ')\n",
        "j=3\n",
        "print(i,end = ' ')\n",
        "j=4\n",
        "print(i,end = ' ')\n",
        "print()\n",
        "\n"
      ],
      "metadata": {
        "colab": {
          "base_uri": "https://localhost:8080/"
        },
        "id": "KYSs1Skoh5ZF",
        "outputId": "30d7660e-8f36-44ff-da89-da63851aa6f2"
      },
      "execution_count": null,
      "outputs": [
        {
          "output_type": "stream",
          "name": "stdout",
          "text": [
            "1 1 1 1 \n",
            "2 2 2 2 \n",
            "3 3 3 3 \n"
          ]
        }
      ]
    },
    {
      "cell_type": "code",
      "source": [
        "for i in range(1,4):\n",
        "  for j in range(1,5):\n",
        "    print(i,end = ' ')\n",
        "  print()"
      ],
      "metadata": {
        "colab": {
          "base_uri": "https://localhost:8080/"
        },
        "id": "NwYuLazphChH",
        "outputId": "60d5513e-6c01-4d38-c94e-5fd892b253bb"
      },
      "execution_count": null,
      "outputs": [
        {
          "output_type": "stream",
          "name": "stdout",
          "text": [
            "1 1 1 1 \n",
            "2 2 2 2 \n",
            "3 3 3 3 \n"
          ]
        }
      ]
    },
    {
      "cell_type": "code",
      "source": [
        "for i in range(4):\n",
        "  for j in range(4):\n",
        "    print(j,end = ' ')\n",
        "  print()"
      ],
      "metadata": {
        "colab": {
          "base_uri": "https://localhost:8080/"
        },
        "id": "hGKyJJ20hN-e",
        "outputId": "c6e10b3e-ed3b-4069-d38c-1f66902f9fe3"
      },
      "execution_count": null,
      "outputs": [
        {
          "output_type": "stream",
          "name": "stdout",
          "text": [
            "0 1 2 3 \n",
            "0 1 2 3 \n",
            "0 1 2 3 \n",
            "0 1 2 3 \n"
          ]
        }
      ]
    },
    {
      "cell_type": "code",
      "source": [
        "# the above program logic\n",
        "i=0\n",
        "j=0\n",
        "print(j,end = ' ')\n",
        "j=2\n",
        "print(j,end = ' ')\n",
        "j=3\n",
        "print(j,end = ' ')\n",
        "j=4\n",
        "print(j,end = ' ')\n",
        "print()\n",
        "\n",
        "i = 1\n",
        "j=1\n",
        "print(j,end = ' ')\n",
        "j=2\n",
        "print(j,end = ' ')\n",
        "j=3\n",
        "print(j,end = ' ')\n",
        "j=4\n",
        "print(j,end = ' ')\n",
        "print()\n",
        "\n",
        "i=2\n",
        "j=1\n",
        "print(j,end = ' ')\n",
        "j=2\n",
        "print(j,end = ' ')\n",
        "j=3\n",
        "print(j,end = ' ')\n",
        "j=4\n",
        "print(j,end = ' ')\n",
        "print()\n",
        "\n",
        "i=3\n",
        "j=1\n",
        "print(j,end = ' ')\n",
        "j=2\n",
        "print(j,end = ' ')\n",
        "j=3\n",
        "print(j,end = ' ')\n",
        "j=4\n",
        "print(j,end = ' ')\n",
        "print()"
      ],
      "metadata": {
        "colab": {
          "base_uri": "https://localhost:8080/"
        },
        "id": "NPCUaZbNjSn9",
        "outputId": "360ffca0-5bde-456f-98dc-379f4df78488"
      },
      "execution_count": null,
      "outputs": [
        {
          "output_type": "stream",
          "name": "stdout",
          "text": [
            "0 2 3 4 \n",
            "1 2 3 4 \n",
            "1 2 3 4 \n",
            "1 2 3 4 \n"
          ]
        }
      ]
    },
    {
      "cell_type": "code",
      "source": [
        "# home work task\n",
        "count = 0\n",
        "for i in range(4):\n",
        "  for j in range(4): # For every outer loop inner loop runs for 4 times.\n",
        "    count = count + 1\n",
        "    print(count,end = ' ')\n",
        "  print()"
      ],
      "metadata": {
        "colab": {
          "base_uri": "https://localhost:8080/"
        },
        "id": "H2fzvnaejqUH",
        "outputId": "75b19fb2-e6e9-47af-95ac-e560da4cc1c3"
      },
      "execution_count": null,
      "outputs": [
        {
          "output_type": "stream",
          "name": "stdout",
          "text": [
            "1 2 3 4 \n",
            "5 6 7 8 \n",
            "9 10 11 12 \n",
            "13 14 15 16 \n"
          ]
        }
      ]
    },
    {
      "cell_type": "code",
      "source": [
        "# The above program logic\n",
        "# 1 2 3 4\n",
        "# 5 6 7 8\n",
        "# 9 10 11 12\n",
        "# 13 14 15 16\n",
        "\n",
        "i=1\n",
        "j=1\n",
        "count = 1           # count = 0 ..(0 + 1) = 1\n",
        "print(1, end = ' ')            # print(count=1)\n",
        "\n",
        "j=2\n",
        "count = 2           # count = 1 ..(1 + 1) = 2\n",
        "print(2, end = ' ')            # print(count=2)\n",
        "\n",
        "j=3\n",
        "count = 3           # count = 2 ..(2 + 1) = 3\n",
        "print(3, end = ' ')            # print(count=3)\n",
        "\n",
        "j=4\n",
        "count = 4           # count = 3 ..(3 + 1) = 4\n",
        "print(4, end = ' ')            # print(count=4)\n",
        "print()\n",
        "\n",
        "i=2\n",
        "j=1\n",
        "count = 5           # count = 4 ..(4 + 1) = 5\n",
        "print(5, end = ' ')            # print(count=5)\n",
        "\n",
        "j=2\n",
        "count = 6           # count = 5 ..(5 + 1) = 6\n",
        "print(6, end = ' ')            # print(count=6)\n",
        "\n",
        "j=3\n",
        "count = 7           # count = 6 ..(6 + 1) = 7\n",
        "print(3, end = ' ')            # print(count=7)\n",
        "\n",
        "j=4\n",
        "count = 8           # count = 7 ..(7 + 1) = 8\n",
        "print(8, end = ' ')            # print(count=8)"
      ],
      "metadata": {
        "colab": {
          "base_uri": "https://localhost:8080/"
        },
        "id": "34hEZy6OnZHn",
        "outputId": "e1042e78-7024-4896-a83f-e4432fbebdd8"
      },
      "execution_count": null,
      "outputs": [
        {
          "output_type": "stream",
          "name": "stdout",
          "text": [
            "1 2 3 4 \n",
            "5 6 3 8 "
          ]
        }
      ]
    },
    {
      "cell_type": "code",
      "source": [
        "\n",
        "for i in range(4):\n",
        "  for j in range(4): # For every outer loop inner loop runs for 4 times.\n",
        "    if j <= i :\n",
        "      print(j,end = ' ')\n",
        "  print()"
      ],
      "metadata": {
        "colab": {
          "base_uri": "https://localhost:8080/"
        },
        "id": "ijapTTy0hVti",
        "outputId": "64e2e9c3-bf6f-48d2-b83d-eb4ecf9aa446"
      },
      "execution_count": null,
      "outputs": [
        {
          "output_type": "stream",
          "name": "stdout",
          "text": [
            "0 \n",
            "0 1 \n",
            "0 1 2 \n",
            "0 1 2 3 \n"
          ]
        }
      ]
    },
    {
      "cell_type": "code",
      "source": [
        "#Logic of the above program\n",
        "i = 0\n",
        "j = 0\n",
        "print(j,end = ' ')\n",
        "print()\n",
        "\n",
        "i = 1\n",
        "j = 0\n",
        "print(j,end = ' ')\n",
        "j = 1\n",
        "print(j,end = ' ')\n",
        "print()\n",
        "\n",
        "i = 2\n",
        "j = 0\n",
        "print(j,end = ' ')\n",
        "j = 1\n",
        "print(j,end = ' ')\n",
        "j = 2\n",
        "print(j,end = ' ')\n",
        "print()\n",
        "\n",
        "i = 3\n",
        "j = 0\n",
        "print(j,end = ' ')\n",
        "j = 1\n",
        "print(j,end = ' ')\n",
        "j = 2\n",
        "print(j,end = ' ')\n",
        "j = 3\n",
        "print(j,end = ' ')"
      ],
      "metadata": {
        "colab": {
          "base_uri": "https://localhost:8080/"
        },
        "id": "LEtjUlMls-MT",
        "outputId": "74f80cce-9f12-4dc0-a2da-ea4ffecfd679"
      },
      "execution_count": null,
      "outputs": [
        {
          "output_type": "stream",
          "name": "stdout",
          "text": [
            "0 \n",
            "0 1 \n",
            "0 1 2 \n",
            "0 1 2 3 "
          ]
        }
      ]
    },
    {
      "cell_type": "code",
      "source": [
        "for i in range(4):\n",
        "  for j in range(4): # For every outer loop inner loop runs for 4 times.\n",
        "    if j <= i :\n",
        "      print(i,end = ' ')\n",
        "  print()"
      ],
      "metadata": {
        "colab": {
          "base_uri": "https://localhost:8080/"
        },
        "id": "2XIFkFcAsevN",
        "outputId": "95c25b69-d670-42ca-91eb-6a9ec4b8276d"
      },
      "execution_count": null,
      "outputs": [
        {
          "output_type": "stream",
          "name": "stdout",
          "text": [
            "0 \n",
            "1 1 \n",
            "2 2 2 \n",
            "3 3 3 3 \n"
          ]
        }
      ]
    },
    {
      "cell_type": "code",
      "source": [
        "for i in range(4):\n",
        "  for j in range(4): # For every outer loop inner loop runs for 4 times.\n",
        "    if j >= i :\n",
        "      print(i,end = ' ')\n",
        "  print()"
      ],
      "metadata": {
        "colab": {
          "base_uri": "https://localhost:8080/"
        },
        "id": "WVjToehhvV-P",
        "outputId": "334b76fe-c571-43dd-9040-8552a6f81d45"
      },
      "execution_count": null,
      "outputs": [
        {
          "output_type": "stream",
          "name": "stdout",
          "text": [
            "0 0 0 0 \n",
            "1 1 1 \n",
            "2 2 \n",
            "3 \n"
          ]
        }
      ]
    },
    {
      "cell_type": "markdown",
      "source": [
        "Task 3\n",
        "\n",
        "Write a Python program to print a pattern of asterisks using nested for loops."
      ],
      "metadata": {
        "id": "1N52_6BcvBTB"
      }
    },
    {
      "cell_type": "code",
      "source": [
        "for i in range(5):\n",
        "  for j in range(5):\n",
        "    if j <= i :\n",
        "      print('*',end = ' ')\n",
        "  print()"
      ],
      "metadata": {
        "colab": {
          "base_uri": "https://localhost:8080/"
        },
        "id": "95ZunDXNuM21",
        "outputId": "de79b391-1cd7-48a0-f3ef-1803bf220306"
      },
      "execution_count": null,
      "outputs": [
        {
          "output_type": "stream",
          "name": "stdout",
          "text": [
            "* \n",
            "* * \n",
            "* * * \n",
            "* * * * \n",
            "* * * * * \n"
          ]
        }
      ]
    },
    {
      "cell_type": "code",
      "source": [
        "# W.A.P.  to find count of factor of a given number\n",
        "# 6 = 1,2,3,6.\n",
        "count = 0\n",
        "number = int(input(\"enter a number : \"))\n",
        "for i in range(1,number+1):\n",
        "  if number%i == 0:\n",
        "    count = count + 1\n",
        "    print(i)\n",
        "print(f\"The total number of factors are :{count}\")\n",
        "print(f\"Which are :{i}\")"
      ],
      "metadata": {
        "colab": {
          "base_uri": "https://localhost:8080/"
        },
        "id": "Orfz_9M1vewN",
        "outputId": "af9e1c4f-e0b6-431a-a75b-30aceb80fe94"
      },
      "execution_count": null,
      "outputs": [
        {
          "output_type": "stream",
          "name": "stdout",
          "text": [
            "enter a number : 6\n",
            "1\n",
            "2\n",
            "3\n",
            "6\n",
            "The total number of factors are :4\n",
            "Which are :6\n"
          ]
        }
      ]
    },
    {
      "cell_type": "code",
      "source": [
        "# WAP to find out the given number is a prime number or composit number.\n",
        "count = 0\n",
        "number = int(input(\"enter a number : \"))\n",
        "for i in range(1,number+1):             #Range(1,5) so it will give 1-4 number of so if we want till the 5 number we need to write range(1,number+1)\n",
        "  if number%i == 0:\n",
        "    count = count + 1\n",
        "    print(i)\n",
        "print(f\"The total number of factors are :{count}\")\n",
        "if count == 2 :\n",
        " print(f\"The number {number} is a Prime number.\")\n",
        "else :\n",
        " print(f\"The number {number} is a Composit number.\")"
      ],
      "metadata": {
        "colab": {
          "base_uri": "https://localhost:8080/"
        },
        "id": "-4DBz_O9zhmN",
        "outputId": "bbb6a6b7-21e5-4250-8c88-ceef562e1c41"
      },
      "execution_count": null,
      "outputs": [
        {
          "output_type": "stream",
          "name": "stdout",
          "text": [
            "enter a number : 5\n",
            "1\n",
            "5\n",
            "The total number of factors are :2\n",
            "The number 5 is a Prime number.\n"
          ]
        }
      ]
    }
  ]
}