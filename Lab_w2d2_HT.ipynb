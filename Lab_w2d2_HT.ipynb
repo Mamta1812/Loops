{
  "nbformat": 4,
  "nbformat_minor": 0,
  "metadata": {
    "colab": {
      "provenance": []
    },
    "kernelspec": {
      "name": "python3",
      "display_name": "Python 3"
    },
    "language_info": {
      "name": "python"
    }
  },
  "cells": [
    {
      "cell_type": "markdown",
      "source": [
        "Task 1😇\n",
        "\n",
        "WAP to print the first n elements of fibbonacci series, store it in a list. n is the input from user.\n",
        "\n",
        "Sample input:9\n",
        "\n",
        "Sample output:[0, 1, 1, 2, 3, 5, 8, 13, 21]"
      ],
      "metadata": {
        "id": "qkwBQeUsqEzd"
      }
    },
    {
      "cell_type": "code",
      "source": [
        "a = int(input())\n",
        "x = 0\n",
        "y = 1\n",
        "c = [0]\n",
        "for i in range(a-1):\n",
        "  z = x + y\n",
        "  y = x\n",
        "  x = z\n",
        "  c.append(x)\n",
        "print(c)\n",
        "\n"
      ],
      "metadata": {
        "colab": {
          "base_uri": "https://localhost:8080/"
        },
        "id": "8ve28kC1qgrc",
        "outputId": "c89c10ca-93fa-4d93-edf5-cf6991240707"
      },
      "execution_count": null,
      "outputs": [
        {
          "output_type": "stream",
          "name": "stdout",
          "text": [
            "9\n",
            "[0, 1, 1, 2, 3, 5, 8, 13, 21]\n"
          ]
        }
      ]
    },
    {
      "cell_type": "markdown",
      "source": [
        "Task 2.1\n",
        "\n",
        "WAP to print the below pattern in output"
      ],
      "metadata": {
        "id": "xC91-gvsxuTL"
      }
    },
    {
      "cell_type": "markdown",
      "source": [],
      "metadata": {
        "id": "Eb6fRS6Et_77"
      }
    },
    {
      "cell_type": "code",
      "source": [
        "for i in range(6) :\n",
        "  for j in range(i) :\n",
        "    print(\"*\" , end = \"\")\n",
        "  print()"
      ],
      "metadata": {
        "colab": {
          "base_uri": "https://localhost:8080/"
        },
        "id": "1R-VHodEySrL",
        "outputId": "61cbb64c-b7e9-4d18-e802-4cbe50c6891e"
      },
      "execution_count": null,
      "outputs": [
        {
          "output_type": "stream",
          "name": "stdout",
          "text": [
            "\n",
            "*\n",
            "**\n",
            "***\n",
            "****\n",
            "*****\n"
          ]
        }
      ]
    },
    {
      "cell_type": "markdown",
      "source": [
        "Task 2.2\n",
        "\n",
        "WAP to print the below pattern in output"
      ],
      "metadata": {
        "id": "RK50bsLh0mB9"
      }
    },
    {
      "cell_type": "code",
      "source": [
        "for i in range(5):\n",
        "  for j in range(5):\n",
        "    if j >= i:\n",
        "      print(\"*\",end=\"\")\n",
        "  print()"
      ],
      "metadata": {
        "colab": {
          "base_uri": "https://localhost:8080/"
        },
        "id": "EB9FaM5n0sf1",
        "outputId": "ceb62e99-0b5c-4e57-ab3a-277770dc8166"
      },
      "execution_count": null,
      "outputs": [
        {
          "output_type": "stream",
          "name": "stdout",
          "text": [
            "*****\n",
            "****\n",
            "***\n",
            "**\n",
            "*\n"
          ]
        }
      ]
    },
    {
      "cell_type": "markdown",
      "source": [
        "Task 3\n",
        "\n",
        "WAP to prompt user to input a number, and print the number in a those many number of lines starting from 1number in first lines, next 2 numbers in 2nd line and so on.\n",
        "\n",
        "Example\n",
        "\n",
        "Sample input:5\n",
        "\n",
        "Sample output:1\n",
        "\n",
        "2 3\n",
        "\n",
        "4 5 6\n",
        "\n",
        "7 8 9 10\n",
        "\n",
        "11 12 13 14 15  "
      ],
      "metadata": {
        "id": "kIMEb7VI2gBi"
      }
    },
    {
      "cell_type": "code",
      "source": [
        "k = 1\n",
        "n = int(input())\n",
        "for i in range(n+1):\n",
        "  k = k\n",
        "  for j in range(i):\n",
        "    print(k,end = \" \")\n",
        "    k = k + 1\n",
        "  print()"
      ],
      "metadata": {
        "colab": {
          "base_uri": "https://localhost:8080/"
        },
        "id": "r1CgVNxd2mGd",
        "outputId": "eeef567c-b4cd-47f3-be5f-75b0f65a5774"
      },
      "execution_count": null,
      "outputs": [
        {
          "output_type": "stream",
          "name": "stdout",
          "text": [
            "5\n",
            "\n",
            "1 \n",
            "2 3 \n",
            "4 5 6 \n",
            "7 8 9 10 \n",
            "11 12 13 14 15 \n"
          ]
        }
      ]
    }
  ]
}