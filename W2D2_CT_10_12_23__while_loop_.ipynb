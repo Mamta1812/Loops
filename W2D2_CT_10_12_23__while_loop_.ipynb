{
  "nbformat": 4,
  "nbformat_minor": 0,
  "metadata": {
    "colab": {
      "provenance": []
    },
    "kernelspec": {
      "name": "python3",
      "display_name": "Python 3"
    },
    "language_info": {
      "name": "python"
    }
  },
  "cells": [
    {
      "cell_type": "markdown",
      "source": [
        "**While loops**"
      ],
      "metadata": {
        "id": "_C6Vi3j6-WsB"
      }
    },
    {
      "cell_type": "code",
      "source": [
        "# Week 2 day -- 2 10/12/23\n",
        "# while  loop\n",
        "# while loop syntax downbellow:\n",
        "\n",
        "# WAP to print hello world 5 times\n",
        "\n",
        "# 1 using for loop\n",
        "for i in range(5):\n",
        "  print(\"hello world\")\n",
        "print(\"End of for loop\")\n",
        "print()\n",
        "\n",
        "# WAP to print hello world 5 times\n",
        "# 2 using while loop\n",
        "#  initialization\n",
        "#  while <condition>:\n",
        "#    loop body\n",
        "#    increment\n",
        "\n",
        "i = 0                                                     # initialization of a variable\n",
        "while i < 5 :                                            # while<condition>:\n",
        "  print(\"Hello world\")                                    # loop body\n",
        "  i = i + 1    #if we forget to write this statement then it will go in to infinite loop # increment or decrement\n",
        "print(\"End of while the loop\")"
      ],
      "metadata": {
        "colab": {
          "base_uri": "https://localhost:8080/"
        },
        "id": "i-H7yiMl-aH8",
        "outputId": "a6644fbc-6ed4-4bcc-c16e-c19f9c6467c9"
      },
      "execution_count": null,
      "outputs": [
        {
          "output_type": "stream",
          "name": "stdout",
          "text": [
            "hello world\n",
            "hello world\n",
            "hello world\n",
            "hello world\n",
            "hello world\n",
            "End of for loop\n",
            "\n",
            "Hello world\n",
            "Hello world\n",
            "Hello world\n",
            "Hello world\n",
            "Hello world\n",
            "End of while the loop\n"
          ]
        }
      ]
    },
    {
      "cell_type": "code",
      "source": [
        "# WAP to keep finding count of factors of a given number from the user .\n",
        "# Exit the program when the user enters the number -1.\n",
        "\n",
        "#take an input from the user\n",
        "#if input = -1 :exit\n",
        "#else\n",
        "#find count of factors for the input\n",
        "#go back to line 4\n",
        "\n",
        "while True: # true condition use to take the while loop.\n",
        "  number = int(input(\"Enter the number to find and count number of factors it has :\"))\n",
        "  if number == -1:\n",
        "    break    # break statement use to take the program out of the loop.\n",
        "  else :\n",
        "    count = 0\n",
        "    for i in range(1,number+1):             #Range(1,5) so it will give 1-4 number of so if we want till the 5 number we need to write range(1,number+1)\n",
        "      if number%i == 0:\n",
        "        count = count + 1\n",
        "        print(i)\n",
        "    if count == 2 :\n",
        "       print(f\"The number {number} is a Prime number.\")\n",
        "    else :\n",
        "        print(f\"The number {number} is a Composit number.\")\n",
        "\n",
        "print(\"End of the program....!\")\n"
      ],
      "metadata": {
        "colab": {
          "base_uri": "https://localhost:8080/"
        },
        "id": "Ozoa1CQIFE_u",
        "outputId": "bd065cf5-8fa5-4a09-b9ef-c29acc161617"
      },
      "execution_count": null,
      "outputs": [
        {
          "output_type": "stream",
          "name": "stdout",
          "text": [
            "Enter the number to find and count number of factors it has :21\n",
            "1\n",
            "3\n",
            "7\n",
            "21\n",
            "The number 21 is a Composit number.\n",
            "Enter the number to find and count number of factors it has :3\n",
            "1\n",
            "3\n",
            "The number 3 is a Prime number.\n",
            "Enter the number to find and count number of factors it has :-1\n",
            "End of the program....!\n"
          ]
        }
      ]
    },
    {
      "cell_type": "code",
      "source": [
        "# another way of the above problem\n",
        "number = int(input())\n",
        "while number != -1:\n",
        "  count = 0\n",
        "  for i in range(1,number+1):\n",
        "    if number%i == 0:\n",
        "      count = count + 1\n",
        "  print(count)\n",
        "  number = int(input()) # with out this condition program will go in to infinite loop.\n",
        "print(\"Program ends.\")"
      ],
      "metadata": {
        "colab": {
          "base_uri": "https://localhost:8080/"
        },
        "id": "1wAPQPm4zO-M",
        "outputId": "22f43cb4-41b4-414b-939d-9c6971f72c1b"
      },
      "execution_count": null,
      "outputs": [
        {
          "output_type": "stream",
          "name": "stdout",
          "text": [
            "5\n",
            "2\n",
            "-1\n",
            "Program ends.\n"
          ]
        }
      ]
    },
    {
      "cell_type": "code",
      "source": [
        "# another way of the above problem\n",
        "j = 0\n",
        "while j == 0: # true condition use to take the while loop.\n",
        "  number = int(input(\"Enter the number to find and count number of factors it has :\"))\n",
        "  if number == -1:\n",
        "    break    # break statement use to take the program out of the loop.\n",
        "  else :\n",
        "    count = 0\n",
        "    for i in range(1,number+1):             #Range(1,5) so it will give 1-4 number of so if we want till the 5 number we need to write range(1,number+1)\n",
        "      if number%i == 0:\n",
        "        count = count + 1\n",
        "        print(i)\n",
        "    if count == 2 :\n",
        "       print(f\"The number {number} is a Prime number.\")\n",
        "    else :\n",
        "        print(f\"The number {number} is a Composit number.\")\n",
        "\n",
        "print(\"End of the program....!\")"
      ],
      "metadata": {
        "colab": {
          "base_uri": "https://localhost:8080/"
        },
        "id": "pzz2YK1m1d2N",
        "outputId": "b5c307d2-a302-42f3-921b-5382d4bc491d"
      },
      "execution_count": null,
      "outputs": [
        {
          "output_type": "stream",
          "name": "stdout",
          "text": [
            "Enter the number to find and count number of factors it has :52\n",
            "1\n",
            "2\n",
            "4\n",
            "13\n",
            "26\n",
            "52\n",
            "The number 52 is a Composit number.\n",
            "Enter the number to find and count number of factors it has :-1\n",
            "End of the program....!\n"
          ]
        }
      ]
    },
    {
      "cell_type": "markdown",
      "source": [
        "LIST\n"
      ],
      "metadata": {
        "id": "uk7bqjnV5s8C"
      }
    },
    {
      "cell_type": "code",
      "source": [
        "# LISTS\n",
        "NUMBERLIST = [1,2,3,4,5,6,7,8,9,10]\n",
        "print(type(NUMBERLIST))\n",
        "\n",
        "# Indexing in the list.\n",
        "print(NUMBERLIST[8])\n",
        "\n",
        "#length of the list.\n",
        "print(len(NUMBERLIST))\n",
        "\n",
        "\n",
        "# useing a for loop .\n",
        "for number in NUMBERLIST:\n",
        "  print(number,end =' ')\n",
        "print()\n",
        "\n",
        "# useing a while loop .\n",
        "i = 1\n",
        "while i <=  len(NUMBERLIST):\n",
        "  print(i, end = ' ')\n",
        "  i = i + 1"
      ],
      "metadata": {
        "colab": {
          "base_uri": "https://localhost:8080/"
        },
        "id": "ppzhoIGA5-EZ",
        "outputId": "fd06d01e-9a1b-45b1-c739-5cede2d76694"
      },
      "execution_count": null,
      "outputs": [
        {
          "output_type": "stream",
          "name": "stdout",
          "text": [
            "<class 'list'>\n",
            "9\n",
            "10\n",
            "1 2 3 4 5 6 7 8 9 10 \n",
            "1 2 3 4 5 6 7 8 9 10 "
          ]
        }
      ]
    },
    {
      "cell_type": "code",
      "source": [
        "nlist =[10,20,30,40,50,60,70,80,90,100]\n",
        "      #[0 , 1 ,2 ,3 ,4, 5 ,6 ,7 ,8 , 9]--index of the above list .\n",
        "#Sliceing of the list\n",
        "print(nlist[:]) #               [   starting of the list    :     Ending of the list  ]\n",
        "print(nlist[2:6]) # -- from index <2> till index <6>\n",
        "print(nlist[:4])\n",
        "print(nlist[3:])\n",
        "print()\n",
        "\n",
        "# to print the last element of the list\n",
        "print(f\"The last element of the list {nlist[len(nlist)-1]}\")\n",
        "print()\n",
        "\n",
        "#nlist =[10,20,30,40,50,60,70,80,90,100]\n",
        "      # [-10,-9,-8,-7,-6,-5,-4,-3,-2,-1]--index of the above list in alternative way.\n",
        "#indexing in alternative way.\n",
        "print(nlist[-1])\n",
        "print(nlist[-3])\n",
        "print(nlist[-10])\n",
        "print(nlist[-8])\n",
        "print(nlist[-8:-3]) #here write from the negative way like -3 is greater then -8 so [-8:-3]\n"
      ],
      "metadata": {
        "colab": {
          "base_uri": "https://localhost:8080/"
        },
        "id": "5d9tyqnYDFSq",
        "outputId": "a404ac45-a468-4efb-85b4-48cd1f8b1746"
      },
      "execution_count": null,
      "outputs": [
        {
          "output_type": "stream",
          "name": "stdout",
          "text": [
            "[10, 20, 30, 40, 50, 60, 70, 80, 90, 100]\n",
            "[30, 40, 50, 60]\n",
            "[10, 20, 30, 40]\n",
            "[40, 50, 60, 70, 80, 90, 100]\n",
            "\n",
            "The last element of the list 100\n",
            "\n",
            "100\n",
            "80\n",
            "10\n",
            "30\n",
            "[30, 40, 50, 60, 70]\n"
          ]
        }
      ]
    },
    {
      "cell_type": "code",
      "source": [
        "# Two ways to add number to the list\n",
        "# Insert , append\n",
        "# append\n",
        "nlist =[10,20,30,40,50,60,70,80,90]\n",
        "print(nlist)\n",
        "nlist.append(100)\n",
        "print(f\"append ---  {nlist}\")\n",
        "print()\n",
        "\n",
        "# Insert\n",
        "nlist.insert(3,25) # here 3 is the index value and 25 is the number to insrt\n",
        "print(f\"Insert ---  {nlist}\")\n",
        "print()\n",
        "\n",
        "# extend --- used to add a new list to the existing list .\n",
        "newlist = [15,35,45,55,65]\n",
        "nlist.extend(newlist)\n",
        "print(f\"extend ---  {nlist}\")\n",
        "print()\n",
        "\n",
        "# Remove --- used to remove a value of the list from the list.\n",
        "nlist.remove(55)\n",
        "print(f\"remove ---  {nlist}\")\n",
        "print()\n",
        "\n",
        "# pop --- used to remove the value of the POSITION or say INDEX of the list.\n",
        "nlist.pop(0)\n",
        "print(f\"pop ---  {nlist}\")\n",
        "print()\n",
        "\n",
        "# clear --- remove all the elements of the list\n",
        "print(f\"newlist --- {newlist}\")\n",
        "newlist.clear()\n",
        "print(f\"newlist --- {newlist}\")\n",
        "print()\n",
        "# here the list will be existing but its value want be existing."
      ],
      "metadata": {
        "id": "iXJ9oNqK7JMl",
        "colab": {
          "base_uri": "https://localhost:8080/"
        },
        "outputId": "121ff9e5-d7ef-484f-b3c9-80dea390f480"
      },
      "execution_count": null,
      "outputs": [
        {
          "output_type": "stream",
          "name": "stdout",
          "text": [
            "[10, 20, 30, 40, 50, 60, 70, 80, 90]\n",
            "append ---  [10, 20, 30, 40, 50, 60, 70, 80, 90, 100]\n",
            "\n",
            "Insert ---  [10, 20, 30, 25, 40, 50, 60, 70, 80, 90, 100]\n",
            "\n",
            "extend ---  [10, 20, 30, 25, 40, 50, 60, 70, 80, 90, 100, 15, 35, 45, 55, 65]\n",
            "\n",
            "remove ---  [10, 20, 30, 25, 40, 50, 60, 70, 80, 90, 100, 15, 35, 45, 65]\n",
            "\n",
            "pop ---  [20, 30, 25, 40, 50, 60, 70, 80, 90, 100, 15, 35, 45, 65]\n",
            "\n",
            "newlist --- [15, 35, 45, 55, 65]\n",
            "newlist --- []\n",
            "\n"
          ]
        }
      ]
    },
    {
      "cell_type": "code",
      "source": [
        "# Add two list with out using extend function\n",
        "list1 = [10,20,30,40]\n",
        "print(list1)\n",
        "list2 = [50,60,70,80]\n",
        "print(list2)\n",
        "sumlist = list1 + list2\n",
        "print(sumlist)\n",
        "print()\n",
        "\n",
        "# Do not use any variable other than list1 and list2\n",
        "list1 = list1 + list2\n",
        "print(f\"list1 --- {list1}\")\n"
      ],
      "metadata": {
        "colab": {
          "base_uri": "https://localhost:8080/"
        },
        "id": "NSKARZHG1VP6",
        "outputId": "99a7b1f7-10ed-42ed-acc2-d2a2a5a0f819"
      },
      "execution_count": null,
      "outputs": [
        {
          "output_type": "stream",
          "name": "stdout",
          "text": [
            "[10, 20, 30, 40]\n",
            "[50, 60, 70, 80]\n",
            "[10, 20, 30, 40, 50, 60, 70, 80]\n",
            "\n",
            "list1 --- [10, 20, 30, 40, 50, 60, 70, 80]\n"
          ]
        }
      ]
    },
    {
      "cell_type": "markdown",
      "source": [
        "---------------------------------STRINGS--------------------------"
      ],
      "metadata": {
        "id": "lrQ3lCgP8WTw"
      }
    },
    {
      "cell_type": "code",
      "source": [
        "#string\n",
        "# all slicing function can work\n",
        "string1 = \"Modi is a very good School\" # here space is also consider as string .\n",
        "print(string1)\n",
        "print(string1[:]) #               [   starting of the string    :     Ending of the string  ]\n",
        "print(string1[2:6]) # -- from index <2> till index <6>\n",
        "print(string1[:4])\n",
        "print(string1[3:])\n",
        "print()\n",
        "print(len(string1))# gives the length of the string.\n",
        "print(string1.upper())\n",
        "print(string1.lower())\n",
        "print()\n",
        "\n",
        "# wap to count number of words in a given sentence.\n",
        "string = \"hello world\"\n",
        "count = 1\n",
        "for h in string:\n",
        "  if h == \" \":\n",
        "    count = count + 1\n",
        "print(f\"strin word count {count}\")\n",
        "\n",
        "#  --- Split --- function in string .\n",
        "string2 = \"hello world am an roobo 502.\"\n",
        "string3 = string2.split(\" \")\n",
        "print(f\"split by space --- {string3}\")\n",
        "print(f\"words in the string3 ---- {(len(string3))}\")\n",
        "print()\n",
        "print(string2.replace(\"am\",\"I am\"))\n",
        "\n",
        "\n"
      ],
      "metadata": {
        "colab": {
          "base_uri": "https://localhost:8080/"
        },
        "id": "epllM2J0_Sl7",
        "outputId": "fb2e8c0e-d42b-4927-9129-468dd58913e0"
      },
      "execution_count": null,
      "outputs": [
        {
          "output_type": "stream",
          "name": "stdout",
          "text": [
            "Modi is a very good School\n",
            "Modi is a very good School\n",
            "di i\n",
            "Modi\n",
            "i is a very good School\n",
            "\n",
            "26\n",
            "MODI IS A VERY GOOD SCHOOL\n",
            "modi is a very good school\n",
            "\n",
            "strin word count 2\n",
            "split by space --- ['hello', 'world', 'am', 'an', 'roobo', '502.']\n",
            "words in the string3 ---- 6\n",
            "\n",
            "hello world I am an roobo 502.\n"
          ]
        }
      ]
    },
    {
      "cell_type": "markdown",
      "source": [
        "# Nested while loop .\n"
      ],
      "metadata": {
        "id": "urEWpwq_m81t"
      }
    },
    {
      "cell_type": "code",
      "source": [
        "#nested while loop\n",
        "a = 1\n",
        "while a < 5 :\n",
        "  print(\"outer loop\")\n",
        "  b = 1\n",
        "  while b < 3 :\n",
        "    print(\"inner loop\")\n",
        "    b = b + 1\n",
        "  a = a + 1\n"
      ],
      "metadata": {
        "colab": {
          "base_uri": "https://localhost:8080/"
        },
        "id": "iEn4c8oInCCs",
        "outputId": "95e66b85-0666-4906-f05a-124154d35176"
      },
      "execution_count": null,
      "outputs": [
        {
          "output_type": "stream",
          "name": "stdout",
          "text": [
            "outer loop\n",
            "inner loop\n",
            "inner loop\n",
            "outer loop\n",
            "inner loop\n",
            "inner loop\n",
            "outer loop\n",
            "inner loop\n",
            "inner loop\n",
            "outer loop\n",
            "inner loop\n",
            "inner loop\n"
          ]
        }
      ]
    },
    {
      "cell_type": "code",
      "source": [
        "# wap to print 1 , 2, 3 ,4 tables using while loop (table like (1 * 1 = 1))\n",
        "a = 1\n",
        "while a < 5 :\n",
        "  b = 1\n",
        "  while b < 11 :\n",
        "    c = a * b\n",
        "    print(f\"{a}*{b}={c}\")\n",
        "    b = b + 1\n",
        "  print()\n",
        "  a = a + 1\n"
      ],
      "metadata": {
        "colab": {
          "base_uri": "https://localhost:8080/"
        },
        "id": "fuoK3BDEn9fg",
        "outputId": "05aca35f-6fa0-44b8-ad66-bde370c411df"
      },
      "execution_count": null,
      "outputs": [
        {
          "output_type": "stream",
          "name": "stdout",
          "text": [
            "1*1=1\n",
            "1*2=2\n",
            "1*3=3\n",
            "1*4=4\n",
            "1*5=5\n",
            "1*6=6\n",
            "1*7=7\n",
            "1*8=8\n",
            "1*9=9\n",
            "1*10=10\n",
            "\n",
            "2*1=2\n",
            "2*2=4\n",
            "2*3=6\n",
            "2*4=8\n",
            "2*5=10\n",
            "2*6=12\n",
            "2*7=14\n",
            "2*8=16\n",
            "2*9=18\n",
            "2*10=20\n",
            "\n",
            "3*1=3\n",
            "3*2=6\n",
            "3*3=9\n",
            "3*4=12\n",
            "3*5=15\n",
            "3*6=18\n",
            "3*7=21\n",
            "3*8=24\n",
            "3*9=27\n",
            "3*10=30\n",
            "\n",
            "4*1=4\n",
            "4*2=8\n",
            "4*3=12\n",
            "4*4=16\n",
            "4*5=20\n",
            "4*6=24\n",
            "4*7=28\n",
            "4*8=32\n",
            "4*9=36\n",
            "4*10=40\n",
            "\n"
          ]
        }
      ]
    },
    {
      "cell_type": "code",
      "source": [
        "# fibonachi series\n",
        "a = 0\n",
        "b = 1\n",
        "i = 1\n",
        "while i < 7 :\n",
        "  print(a)\n",
        "  c = a + b\n",
        "  a = b\n",
        "  b = c\n",
        "  i = i + 1 # <i> is index value .\n",
        "\n"
      ],
      "metadata": {
        "id": "K1KZlyOyqvMI",
        "colab": {
          "base_uri": "https://localhost:8080/"
        },
        "outputId": "0623b4d6-1d8c-4c81-b0cf-b14fe373bcd4"
      },
      "execution_count": null,
      "outputs": [
        {
          "output_type": "stream",
          "name": "stdout",
          "text": [
            "0\n",
            "1\n",
            "1\n",
            "2\n",
            "3\n",
            "5\n"
          ]
        }
      ]
    },
    {
      "cell_type": "code",
      "source": [
        "# sum of the febonachi series\n",
        "a = 0\n",
        "b = 1\n",
        "i = 1\n",
        "sum = 0\n",
        "count = sum\n",
        "while i < 7 :\n",
        "  sum = sum + a\n",
        "  c = a + b\n",
        "  a = b\n",
        "  b = c\n",
        "  count = count + 1\n",
        "  i = i + 1 # <i> is index value .\n",
        "print(sum)"
      ],
      "metadata": {
        "colab": {
          "base_uri": "https://localhost:8080/"
        },
        "id": "bsnSzFl9Poc1",
        "outputId": "fa995431-a818-4732-f166-1f8bc0e07ea1"
      },
      "execution_count": null,
      "outputs": [
        {
          "output_type": "stream",
          "name": "stdout",
          "text": [
            "12\n"
          ]
        }
      ]
    },
    {
      "cell_type": "markdown",
      "source": [
        "--------------------- Break key word ---------------------"
      ],
      "metadata": {
        "id": "l3B_bWuAL-wK"
      }
    },
    {
      "cell_type": "code",
      "source": [
        "a = 1\n",
        "while True:\n",
        "  if a == 4 :\n",
        "    break     #<break> is used to stop the infinite while loop .\n",
        "  print(a)\n",
        "  a = a + 1"
      ],
      "metadata": {
        "colab": {
          "base_uri": "https://localhost:8080/"
        },
        "id": "0bt810EJMCA6",
        "outputId": "04dacfc0-8542-49ed-b0de-6959aa01445e"
      },
      "execution_count": null,
      "outputs": [
        {
          "output_type": "stream",
          "name": "stdout",
          "text": [
            "1\n",
            "2\n",
            "3\n"
          ]
        }
      ]
    },
    {
      "cell_type": "markdown",
      "source": [
        "---------------------- continue ----------------------\n",
        "\n",
        "\n",
        "\n"
      ],
      "metadata": {
        "id": "hH4fmbYhM1L_"
      }
    },
    {
      "cell_type": "code",
      "source": [
        "for i in range(1,5):\n",
        "  if i == 2 :\n",
        "    continue\n",
        "  print(i)\n",
        "print()\n",
        "  # printing value except 2.\n",
        "\n",
        "for j in range(1,11):\n",
        " if j == 8:\n",
        "  break\n",
        " print(j)\n",
        " # stop printing after 7"
      ],
      "metadata": {
        "colab": {
          "base_uri": "https://localhost:8080/"
        },
        "id": "hTRoAPKLNAx4",
        "outputId": "ec6de19a-c2cd-4cf2-f8ae-4426ff3b145a"
      },
      "execution_count": null,
      "outputs": [
        {
          "output_type": "stream",
          "name": "stdout",
          "text": [
            "1\n",
            "3\n",
            "4\n",
            "\n",
            "1\n",
            "2\n",
            "3\n",
            "4\n",
            "5\n",
            "6\n",
            "7\n"
          ]
        }
      ]
    },
    {
      "cell_type": "markdown",
      "source": [
        "========= tuple =========="
      ],
      "metadata": {
        "id": "Oa6c21TcTo7F"
      }
    },
    {
      "cell_type": "code",
      "source": [
        "# Tuple\n",
        "a = (\"hellen\" , \"is\" , 1 , \"of \", 2)\n",
        "print(type(a))\n",
        "print(\"list can not be modified \")\n",
        "print(a)\n",
        "print()\n",
        "\n",
        "# List\n",
        "b = [\"hellen\" , \"is\" , 1 , \"of \", 2]\n",
        "print(type(b))\n",
        "print(\"list can be modified \")\n",
        "print(b)\n",
        "print()\n",
        "\n",
        "# enumerate function in list\n",
        "abc=[ 100,200,300,400]\n",
        "for i in enumerate(abc):\n",
        "  print(i)\n",
        "print()\n",
        "\n",
        "list(enumerate(abc))\n",
        "#(0, 100) =  <indexnumber  , value of that index >\n",
        "#(1, 200)\n",
        "#(2, 300)\n",
        "#(3, 400)\n",
        "\n",
        "\n"
      ],
      "metadata": {
        "colab": {
          "base_uri": "https://localhost:8080/"
        },
        "id": "GlSTWfcZTumK",
        "outputId": "c04ae80b-621a-45d4-a332-7ef7030ecd8b"
      },
      "execution_count": null,
      "outputs": [
        {
          "output_type": "stream",
          "name": "stdout",
          "text": [
            "<class 'tuple'>\n",
            "list can not be modified \n",
            "('hellen', 'is', 1, 'of ', 2)\n",
            "\n",
            "<class 'list'>\n",
            "list can be modified \n",
            "['hellen', 'is', 1, 'of ', 2]\n",
            "\n",
            "(0, 100)\n",
            "(1, 200)\n",
            "(2, 300)\n",
            "(3, 400)\n",
            "\n"
          ]
        },
        {
          "output_type": "execute_result",
          "data": {
            "text/plain": [
              "[(0, 100), (1, 200), (2, 300), (3, 400)]"
            ]
          },
          "metadata": {},
          "execution_count": 30
        }
      ]
    },
    {
      "cell_type": "code",
      "source": [
        "## Zip founction in list\n",
        "a = [5,55,66]\n",
        "b = [22,44,12]\n",
        "# remove <#> from which ever function u want to see the output\n",
        "#zip(a,b)\n",
        "#list(zip(a,b))\n",
        "#enumerate(a)\n",
        "list(enumerate(a))"
      ],
      "metadata": {
        "colab": {
          "base_uri": "https://localhost:8080/"
        },
        "id": "2WDTMAh-YdJB",
        "outputId": "68d09eb4-54b6-4faa-c5fe-27387cb8a322"
      },
      "execution_count": null,
      "outputs": [
        {
          "output_type": "execute_result",
          "data": {
            "text/plain": [
              "[(0, 5), (1, 55), (2, 66)]"
            ]
          },
          "metadata": {},
          "execution_count": 35
        }
      ]
    },
    {
      "cell_type": "code",
      "source": [
        "# update tuple ? == NO\n",
        "# workaround : convert to list , update , Conver back to tuple\n",
        "\n",
        "t2 = (1,2,3,4,5,6,7,8)\n",
        "t3 = list(t2)\n",
        "print(type(t2))\n",
        "print(type(t3))\n",
        "print(t3)\n",
        "t3.append(99)\n",
        "print(t3)\n",
        "t4 = tuple(t3)\n",
        "print(t4)"
      ],
      "metadata": {
        "colab": {
          "base_uri": "https://localhost:8080/"
        },
        "id": "EDqt5SWPnVvH",
        "outputId": "1475c0d9-b9b4-4d0c-8dad-ed93fe7beb23"
      },
      "execution_count": null,
      "outputs": [
        {
          "output_type": "stream",
          "name": "stdout",
          "text": [
            "<class 'tuple'>\n",
            "<class 'list'>\n",
            "[1, 2, 3, 4, 5, 6, 7, 8]\n",
            "[1, 2, 3, 4, 5, 6, 7, 8, 99]\n",
            "(1, 2, 3, 4, 5, 6, 7, 8, 99)\n"
          ]
        }
      ]
    }
  ]
}