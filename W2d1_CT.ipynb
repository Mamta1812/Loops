{
  "nbformat": 4,
  "nbformat_minor": 0,
  "metadata": {
    "colab": {
      "provenance": []
    },
    "kernelspec": {
      "name": "python3",
      "display_name": "Python 3"
    },
    "language_info": {
      "name": "python"
    }
  },
  "cells": [
    {
      "cell_type": "markdown",
      "source": [
        "Task 1\n",
        "\n",
        "WAP to print all the single digit numbers"
      ],
      "metadata": {
        "id": "uiXvECIBGm3q"
      }
    },
    {
      "cell_type": "code",
      "execution_count": null,
      "metadata": {
        "colab": {
          "base_uri": "https://localhost:8080/"
        },
        "id": "MCqKWdxRGZrm",
        "outputId": "d1e3f7c1-7a9a-4443-e86d-60c975795ecb"
      },
      "outputs": [
        {
          "output_type": "stream",
          "name": "stdout",
          "text": [
            "0\n",
            "1\n",
            "2\n",
            "3\n",
            "4\n",
            "5\n",
            "6\n",
            "7\n",
            "8\n",
            "9\n"
          ]
        }
      ],
      "source": [
        "for i in range(0,10):\n",
        " print(i)"
      ]
    },
    {
      "cell_type": "markdown",
      "source": [
        "Task 2\n",
        "\n",
        "WAP to write all the even numbers between 1 and 20"
      ],
      "metadata": {
        "id": "lBxofSLAHAzA"
      }
    },
    {
      "cell_type": "code",
      "source": [
        "for i in range(1,21):\n",
        "  if i%2 == 0:\n",
        "    print(i)"
      ],
      "metadata": {
        "colab": {
          "base_uri": "https://localhost:8080/"
        },
        "id": "qoO5Y8_yHF--",
        "outputId": "868ca6f8-e81a-40b5-92f4-aea8091ade44"
      },
      "execution_count": null,
      "outputs": [
        {
          "output_type": "stream",
          "name": "stdout",
          "text": [
            "2\n",
            "4\n",
            "6\n",
            "8\n",
            "10\n",
            "12\n",
            "14\n",
            "16\n",
            "18\n",
            "20\n"
          ]
        }
      ]
    },
    {
      "cell_type": "markdown",
      "source": [
        "Task 3\n",
        "\n",
        "WAP to prompt user to enter their name, print all letters of the name."
      ],
      "metadata": {
        "id": "gLhmINWOHmYA"
      }
    },
    {
      "cell_type": "code",
      "source": [
        "Name = input(\"Enter your name :\")\n",
        "for i in Name:\n",
        "  print(i)"
      ],
      "metadata": {
        "colab": {
          "base_uri": "https://localhost:8080/"
        },
        "id": "L55tY2rbHwUL",
        "outputId": "0933e2b2-2736-48bd-f949-c4b8729a1a54"
      },
      "execution_count": null,
      "outputs": [
        {
          "output_type": "stream",
          "name": "stdout",
          "text": [
            "Enter your name :Emma\n",
            "E\n",
            "m\n",
            "m\n",
            "a\n"
          ]
        }
      ]
    },
    {
      "cell_type": "markdown",
      "source": [
        "Task 4\n",
        "\n",
        "WAP to calculate the factorial of a number entered by user, using for loop"
      ],
      "metadata": {
        "id": "5T1AC--WITdc"
      }
    },
    {
      "cell_type": "code",
      "source": [
        "num = int(input())\n",
        "factorial = 1\n",
        "for i in range(1,num+1):\n",
        "   factorial = factorial *i\n",
        "print(factorial)\n",
        "\n",
        "\n"
      ],
      "metadata": {
        "colab": {
          "base_uri": "https://localhost:8080/"
        },
        "id": "723Plo-YIXQm",
        "outputId": "d28e762b-11e3-429c-a1c3-899c7eb66a94"
      },
      "execution_count": null,
      "outputs": [
        {
          "output_type": "stream",
          "name": "stdout",
          "text": [
            "5\n",
            "120\n"
          ]
        }
      ]
    },
    {
      "cell_type": "markdown",
      "source": [
        "\n",
        "Task 5\n",
        "\n",
        "WAP to print the sum of all numbers from 10 to 99"
      ],
      "metadata": {
        "id": "AJwDIS0WP0tF"
      }
    },
    {
      "cell_type": "code",
      "source": [
        "sum = 0\n",
        "for i in range(10,100):\n",
        " sum = sum + i\n",
        "\n",
        "print(sum)"
      ],
      "metadata": {
        "colab": {
          "base_uri": "https://localhost:8080/"
        },
        "id": "b0jqLkJaPyRD",
        "outputId": "941eacee-b334-4671-e3b2-455496fc7e18"
      },
      "execution_count": null,
      "outputs": [
        {
          "output_type": "stream",
          "name": "stdout",
          "text": [
            "4905\n"
          ]
        }
      ]
    },
    {
      "cell_type": "markdown",
      "source": [
        "Task 6\n",
        "\n",
        "WAP to print the letters of the string and their index position"
      ],
      "metadata": {
        "id": "M_m6N14xRNaw"
      }
    },
    {
      "cell_type": "code",
      "source": [
        "sent1 =input()\n",
        "n = zip(range(len(sent1)),sent1)\n",
        "for i,j in n:\n",
        "  print(f\"({i}, '{j}')\")"
      ],
      "metadata": {
        "colab": {
          "base_uri": "https://localhost:8080/"
        },
        "id": "ScUtrBKIRS4o",
        "outputId": "e5d433cd-ea9c-4794-b322-8c4202e3c038"
      },
      "execution_count": null,
      "outputs": [
        {
          "output_type": "stream",
          "name": "stdout",
          "text": [
            "Odinschool\n",
            "(0, 'O')\n",
            "(1, 'd')\n",
            "(2, 'i')\n",
            "(3, 'n')\n",
            "(4, 's')\n",
            "(5, 'c')\n",
            "(6, 'h')\n",
            "(7, 'o')\n",
            "(8, 'o')\n",
            "(9, 'l')\n"
          ]
        }
      ]
    },
    {
      "cell_type": "markdown",
      "source": [
        "Task 7\n",
        "\n",
        "WAP to aggregate the below 2 lists, and create a restaurant menu\n",
        "\n",
        "items=['Juice','Salad','Sandwich','Paratha','Idli Sambar','Dosa','Misal Pav']\n",
        "\n",
        "price=[100,150,80,180,90,120,50]"
      ],
      "metadata": {
        "id": "_IzSnJwcYjAk"
      }
    },
    {
      "cell_type": "code",
      "source": [
        "items = ['Juice','Salad','Sandwich','Paratha','Idli Sambar','Dosa','Misal Pav']\n",
        "price = [100,150,80,180,90,120,50]\n",
        "\n",
        "my_dict = {}\n",
        "for i in range(len(items)):\n",
        "    my_dict[items[i]] = price[i]\n",
        "\n",
        "print(my_dict)"
      ],
      "metadata": {
        "colab": {
          "base_uri": "https://localhost:8080/"
        },
        "id": "PVYu0btTYoOB",
        "outputId": "c267d3f3-1078-4ef2-f152-e7f2a3ffcc63"
      },
      "execution_count": null,
      "outputs": [
        {
          "output_type": "stream",
          "name": "stdout",
          "text": [
            "{'Juice': 100, 'Salad': 150, 'Sandwich': 80, 'Paratha': 180, 'Idli Sambar': 90, 'Dosa': 120, 'Misal Pav': 50}\n"
          ]
        }
      ]
    },
    {
      "cell_type": "code",
      "source": [
        "items = ['Juice', 'Salad', 'Sandwich', 'Paratha', 'Idli Sambar', 'Dosa', 'Misal Pav']\n",
        "prices = [100, 150, 80, 180, 90, 120, 50]\n",
        "\n",
        "#print(\"Restaurant Menu\")\n",
        "#print(\"----------------\")\n",
        "\n",
        "# Use zip() to iterate over both lists simultaneously\n",
        "for item, price in zip(items, prices):\n",
        "    print(f\"({item}, ₹{price})\")  # Formatted output"
      ],
      "metadata": {
        "colab": {
          "base_uri": "https://localhost:8080/"
        },
        "id": "Kf9D88Vbbwfu",
        "outputId": "2ec1d422-46e7-409d-c75d-7c602b65817f"
      },
      "execution_count": null,
      "outputs": [
        {
          "output_type": "stream",
          "name": "stdout",
          "text": [
            "(Juice, ₹100)\n",
            "(Salad, ₹150)\n",
            "(Sandwich, ₹80)\n",
            "(Paratha, ₹180)\n",
            "(Idli Sambar, ₹90)\n",
            "(Dosa, ₹120)\n",
            "(Misal Pav, ₹50)\n"
          ]
        }
      ]
    },
    {
      "cell_type": "markdown",
      "source": [
        "Task 8\n",
        "\n",
        "Max Score: 5\n",
        "WAP to print the multiplication table of 1-5 as below format"
      ],
      "metadata": {
        "id": "vwnVbdw4dCrF"
      }
    },
    {
      "cell_type": "code",
      "source": [
        "for i in range(1,6):\n",
        " print(f\"{i*1}\",end=\" \")\n",
        "print()\n",
        "for i in range(1,6):\n",
        " print(f\"{i*2}\",end=\" \")\n",
        "print()\n",
        "for i in range(1,6):\n",
        " print(f\"{i*3}\",end=\" \")\n",
        "print()\n",
        "for i in range(1,6):\n",
        " print(f\"{i*4}\",end=\" \")\n",
        "print()\n",
        "for i in range(1,6):\n",
        " print(f\"{i*5}\",end=\" \")\n",
        "print()\n",
        "for i in range(1,6):\n",
        " print(f\"{i*6}\",end=\" \")\n",
        "print()\n",
        "for i in range(1,6):\n",
        " print(f\"{i*7}\",end=\" \")\n",
        "print()\n",
        "for i in range(1,6):\n",
        " print(f\"{i*8}\",end=\" \")\n",
        "print()\n",
        "for i in range(1,6):\n",
        " print(f\"{i*9}\",end=\" \")\n",
        "print()\n",
        "for i in range(1,6):\n",
        " print(f\"{i*10}\",end=\" \")"
      ],
      "metadata": {
        "colab": {
          "base_uri": "https://localhost:8080/"
        },
        "id": "qC1idt0ndF9E",
        "outputId": "3270ac58-e5cb-48c5-a9ee-6ce34bf5de42"
      },
      "execution_count": null,
      "outputs": [
        {
          "output_type": "stream",
          "name": "stdout",
          "text": [
            "1 2 3 4 5 \n",
            "2 4 6 8 10 \n",
            "3 6 9 12 15 \n",
            "4 8 12 16 20 \n",
            "5 10 15 20 25 \n",
            "6 12 18 24 30 \n",
            "7 14 21 28 35 \n",
            "8 16 24 32 40 \n",
            "9 18 27 36 45 \n",
            "10 20 30 40 50 "
          ]
        }
      ]
    }
  ]
}