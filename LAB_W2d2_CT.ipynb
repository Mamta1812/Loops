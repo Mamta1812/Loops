{
  "nbformat": 4,
  "nbformat_minor": 0,
  "metadata": {
    "colab": {
      "provenance": []
    },
    "kernelspec": {
      "name": "python3",
      "display_name": "Python 3"
    },
    "language_info": {
      "name": "python"
    }
  },
  "cells": [
    {
      "cell_type": "markdown",
      "source": [
        "Task 1\n",
        "\n",
        "WAP to print first 10 odd numbers using while loop"
      ],
      "metadata": {
        "id": "VBIezyuBRDSe"
      }
    },
    {
      "cell_type": "code",
      "execution_count": null,
      "metadata": {
        "id": "o6YvAqlcP1NF"
      },
      "outputs": [],
      "source": [
        "i = 1\n",
        "a = 1\n",
        "while i <= 20:\n",
        "  if a%2 != 0 :\n",
        "    print(a)\n",
        "    a = a + 1\n",
        "\n",
        "  else:\n",
        "    a = a + 1\n",
        "\n",
        "  i = i + 1"
      ]
    },
    {
      "cell_type": "markdown",
      "source": [
        "Task 2\n",
        "\n",
        "WAP to print the messages entered by user, until user enters 'STOP'.\n",
        "\n",
        "Passing the testcase is not necessary."
      ],
      "metadata": {
        "id": "KnzU-Lj5RS4C"
      }
    },
    {
      "cell_type": "code",
      "source": [
        "a = input(\"\")\n",
        "\n",
        "while a != \"STOP\":\n",
        "  if a != \"STOP\":\n",
        "    print(a)\n",
        "    a = input(\"\")\n",
        "    if a == \"STOP\":\n",
        "      print(a)\n",
        "      break\n"
      ],
      "metadata": {
        "colab": {
          "base_uri": "https://localhost:8080/"
        },
        "id": "LEOQM9pFRYeJ",
        "outputId": "b33683e5-cfd2-44ed-948a-998a34d75210"
      },
      "execution_count": null,
      "outputs": [
        {
          "output_type": "stream",
          "name": "stdout",
          "text": [
            "Hii\n",
            "Hii\n",
            "Hello\n",
            "Hello\n",
            "How are you\n",
            "How are you\n",
            "STOP\n",
            "STOP\n"
          ]
        }
      ]
    },
    {
      "cell_type": "markdown",
      "source": [
        "Task 3\n",
        "\n",
        "WAP to check whether a number entered by user is prime or not.\n",
        "\n",
        "A number is said to be prime, if it is divisible by 1 and itself only."
      ],
      "metadata": {
        "id": "AdXs3nxAWXP1"
      }
    },
    {
      "cell_type": "code",
      "source": [
        "a = int(input())\n",
        "while a != -1:\n",
        "  count = 0\n",
        "  for i in range(1,a+1):\n",
        "    if a%i == 0:\n",
        "      print(f\"Factor of {a} is {i}\")\n",
        "      count = count + 1\n",
        "  print(f\"The total numbers of factors of {a} are :{count}\")\n",
        "  if count == 2 :\n",
        "    print(f\"{a} is a prime number.\")\n",
        "  else :\n",
        "    print(f\"{a} is a Composite number.\")\n",
        "  a = int(input())"
      ],
      "metadata": {
        "colab": {
          "base_uri": "https://localhost:8080/"
        },
        "id": "Y-LMeVuKaw9a",
        "outputId": "943a12ae-1604-44a2-9377-4f93c91fe361"
      },
      "execution_count": null,
      "outputs": [
        {
          "name": "stdout",
          "output_type": "stream",
          "text": [
            "3\n",
            "Factor of 3 is 1\n",
            "Factor of 3 is 3\n",
            "The total numbers of factors of 3 are :2\n",
            "3 is a prime number.\n",
            "4\n",
            "Factor of 4 is 1\n",
            "Factor of 4 is 2\n",
            "Factor of 4 is 4\n",
            "The total numbers of factors of 4 are :3\n",
            "4 is a Composite number.\n",
            "124\n",
            "Factor of 124 is 1\n",
            "Factor of 124 is 2\n",
            "Factor of 124 is 4\n",
            "Factor of 124 is 31\n",
            "Factor of 124 is 62\n",
            "Factor of 124 is 124\n",
            "The total numbers of factors of 124 are :6\n",
            "124 is a Composite number.\n",
            "17\n",
            "Factor of 17 is 1\n",
            "Factor of 17 is 17\n",
            "The total numbers of factors of 17 are :2\n",
            "17 is a prime number.\n",
            "-1\n"
          ]
        }
      ]
    },
    {
      "cell_type": "code",
      "source": [
        "# Task 3 lab code :\n",
        "a = int(input())\n",
        "while a != -1:\n",
        "  count = 0\n",
        "  for i in range(1,a+1):\n",
        "    if a%i == 0:\n",
        "      count = count + 1\n",
        "  if count == 2 :\n",
        "    print(\"Prime number\")\n",
        "  a = int(input())"
      ],
      "metadata": {
        "colab": {
          "base_uri": "https://localhost:8080/"
        },
        "id": "SIrrPhUkddT-",
        "outputId": "e22e0187-90f6-4b37-90cb-cbb9b75b6089"
      },
      "execution_count": null,
      "outputs": [
        {
          "name": "stdout",
          "output_type": "stream",
          "text": [
            "3\n",
            "Prime number\n",
            "-1\n"
          ]
        }
      ]
    },
    {
      "cell_type": "markdown",
      "source": [
        "Task 4\n",
        "\n",
        "WAP to print all the integers and their squares. User should provide the number to start the series from\n",
        "and what should be the max value to stop (Squared value should not be more than the max value)."
      ],
      "metadata": {
        "id": "cTQQgA0-e3fR"
      }
    },
    {
      "cell_type": "code",
      "source": [
        "a = int(input())\n",
        "b = int(input())\n",
        "x = 1\n",
        "while b >= x :\n",
        "    x = a*a\n",
        "    if x < b:\n",
        "      print(f\"{a} : {x}\")\n",
        "    else :\n",
        "      print(\"Thats all folks!!\")\n",
        "      break\n",
        "    a = a + 1"
      ],
      "metadata": {
        "colab": {
          "base_uri": "https://localhost:8080/"
        },
        "id": "iCXZnW23mZP_",
        "outputId": "2b278c67-5809-451d-9d5e-00c1d6dff735"
      },
      "execution_count": null,
      "outputs": [
        {
          "output_type": "stream",
          "name": "stdout",
          "text": [
            "21\n",
            "899\n",
            "21 : 441\n",
            "22 : 484\n",
            "23 : 529\n",
            "24 : 576\n",
            "25 : 625\n",
            "26 : 676\n",
            "27 : 729\n",
            "28 : 784\n",
            "29 : 841\n",
            "Thats all folks!!\n"
          ]
        }
      ]
    },
    {
      "cell_type": "markdown",
      "source": [
        "Task 5\n",
        "\n",
        "WAP to check whether a string entered by user is palindrome or not."
      ],
      "metadata": {
        "id": "IG7qHmqY-HBa"
      }
    },
    {
      "cell_type": "code",
      "source": [
        "str1 = input(\"Enter a string .\")\n",
        "def reverse_str(text):\n",
        "  return text[::-1]\n",
        "str2 = reverse_str(str1)\n",
        "print(str1)\n",
        "print(str2)\n",
        "if str1 == str2 :\n",
        "  print(\"Entered value is a palindrome\")\n",
        "else :\n",
        "  print(\"Entered value is not a palindrome\")\n",
        "\n"
      ],
      "metadata": {
        "colab": {
          "base_uri": "https://localhost:8080/"
        },
        "id": "CiyD5a3A-J0Q",
        "outputId": "b76320ef-b8eb-490f-d4d7-92bcb9e1fbaf"
      },
      "execution_count": null,
      "outputs": [
        {
          "output_type": "stream",
          "name": "stdout",
          "text": [
            "Enter a string .level\n",
            "level\n",
            "level\n",
            "Entered value is a palindrome\n"
          ]
        }
      ]
    },
    {
      "cell_type": "markdown",
      "source": [
        "Task 6\n",
        "\n",
        "WAP to prompt user to enter a sentence and encode the sentence as per below conditions:\n",
        "if word is at an odd position: reverse the word if word is at an even position: Captalize the first letter of the word\n",
        "Print the encoded message.\n",
        "\n",
        "Sample input:hi how are you\n",
        "\n",
        "Sample output:Hi woh Are uoy"
      ],
      "metadata": {
        "id": "Txkx7RM7A1FQ"
      }
    },
    {
      "cell_type": "code",
      "source": [
        "# learn the bellow given concepts and then you [TASK 6] will be understood by you."
      ],
      "metadata": {
        "id": "VdJVrBLQc3K2"
      },
      "execution_count": null,
      "outputs": []
    },
    {
      "cell_type": "code",
      "source": [
        "# split function\n",
        "#split the string with space .\n",
        "# => here u can also split with different operator like\n",
        "# => split(,)\n",
        "# => dplit(.)\n",
        "# => split() -> single space split .\n",
        "s = \"hello world\"\n",
        "c = s.split()\n",
        "print(s)\n",
        "print(c)"
      ],
      "metadata": {
        "colab": {
          "base_uri": "https://localhost:8080/"
        },
        "id": "qJL2fY4UP24F",
        "outputId": "a9d1a395-5a50-4281-ecbe-da648c64d4fd"
      },
      "execution_count": null,
      "outputs": [
        {
          "output_type": "stream",
          "name": "stdout",
          "text": [
            "hello world\n",
            "['hello', 'world']\n"
          ]
        }
      ]
    },
    {
      "cell_type": "code",
      "source": [
        "# enumerate function\n",
        "# enumerate gives a strinf a list 2 different values like \"i\" and \"f\"\n",
        "# where \"i\" => index\n",
        "# where \"f\" => value stored in index i .\n",
        "s = \"hi hello bye bye \"\n",
        "for i , f in enumerate(s):\n",
        "  print(i)\n",
        "  print(f)"
      ],
      "metadata": {
        "colab": {
          "base_uri": "https://localhost:8080/"
        },
        "id": "eW0XMfmRQJ7G",
        "outputId": "bda7b1f6-a549-4d4b-d9ea-cab506bbc68b"
      },
      "execution_count": null,
      "outputs": [
        {
          "output_type": "stream",
          "name": "stdout",
          "text": [
            "0\n",
            "h\n",
            "1\n",
            "i\n",
            "2\n",
            " \n",
            "3\n",
            "h\n",
            "4\n",
            "e\n",
            "5\n",
            "l\n",
            "6\n",
            "l\n",
            "7\n",
            "o\n",
            "8\n",
            " \n",
            "9\n",
            "b\n",
            "10\n",
            "y\n",
            "11\n",
            "e\n",
            "12\n",
            " \n",
            "13\n",
            "b\n",
            "14\n",
            "y\n",
            "15\n",
            "e\n",
            "16\n",
            " \n"
          ]
        }
      ]
    },
    {
      "cell_type": "code",
      "source": [
        "# split function ,enumerate function ,with for loop.\n",
        "# here the split function splits the string word wise when used with enumerate\n",
        "s = \"hi hello bye bye \"\n",
        "for i , f in enumerate(s.split()):\n",
        "  print(i)\n",
        "  print(f)"
      ],
      "metadata": {
        "colab": {
          "base_uri": "https://localhost:8080/"
        },
        "id": "VWD1lJJMQiQd",
        "outputId": "5584855c-c08f-4189-e88f-ea3e261fb95c"
      },
      "execution_count": null,
      "outputs": [
        {
          "output_type": "stream",
          "name": "stdout",
          "text": [
            "0\n",
            "hi\n",
            "1\n",
            "hello\n",
            "2\n",
            "bye\n",
            "3\n",
            "bye\n"
          ]
        }
      ]
    },
    {
      "cell_type": "code",
      "source": [
        "# converting a list back to a string\n",
        "s = \"hello hi my code .\"\n",
        "c = list(s)\n",
        "print(c)\n",
        "d = \"\".join(c) # string it without space .\n",
        "print(d)\n",
        "print()\n",
        "\n",
        "# string in to list with the whole word as element .\n",
        "a = \" hello i am a dog love and even a animal lover .\"\n",
        "b = list(a.split()) # taking the whole word as a single string untill a space occure.\n",
        "print(b)\n",
        "e = \" \".join(b) # string it with space\n",
        "print(e)"
      ],
      "metadata": {
        "colab": {
          "base_uri": "https://localhost:8080/"
        },
        "id": "bch7vyAVUexG",
        "outputId": "a4d6411e-383f-4945-f191-92c85461fe3f"
      },
      "execution_count": null,
      "outputs": [
        {
          "output_type": "stream",
          "name": "stdout",
          "text": [
            "['h', 'e', 'l', 'l', 'o', ' ', 'h', 'i', ' ', 'm', 'y', ' ', 'c', 'o', 'd', 'e', ' ', '.']\n",
            "hello hi my code .\n",
            "\n",
            "['hello', 'i', 'am', 'a', 'dog', 'love', 'and', 'even', 'a', 'animal', 'lover', '.']\n",
            "hello i am a dog love and even a animal lover .\n"
          ]
        }
      ]
    },
    {
      "cell_type": "code",
      "source": [
        "# Reverse of a sting\n",
        "s = \"hell my name is zuzi ,zuzi with that zeee....!\"\n",
        "d = s[::-1]\n",
        "print(s)\n",
        "print(d)"
      ],
      "metadata": {
        "colab": {
          "base_uri": "https://localhost:8080/"
        },
        "id": "z1YBke3BcW3M",
        "outputId": "ab13896c-08e5-46dd-bdf4-b26e2df14f95"
      },
      "execution_count": null,
      "outputs": [
        {
          "output_type": "stream",
          "name": "stdout",
          "text": [
            "hell my name is zuzi ,zuzi with that zeee....!\n",
            "!....eeez taht htiw izuz, izuz si eman ym lleh\n"
          ]
        }
      ]
    },
    {
      "cell_type": "code",
      "source": [
        "# str.capitalize()\n",
        "# It capitalize the first letter string . => str.capitalize().\n",
        "a = \" i am a lioness.\"\n",
        "b = list(a.split())\n",
        "c = []\n",
        "for i,j in enumerate(b):\n",
        "  d = j.capitalize()\n",
        "  c.append(d)\n",
        "e = \" \".join(c)\n",
        "print(e)\n"
      ],
      "metadata": {
        "colab": {
          "base_uri": "https://localhost:8080/"
        },
        "id": "ga_3ihQwWz2K",
        "outputId": "0595140e-3868-4e38-d6a9-db37802a6b56"
      },
      "execution_count": null,
      "outputs": [
        {
          "output_type": "stream",
          "name": "stdout",
          "text": [
            "I Am A Lioness.\n"
          ]
        }
      ]
    },
    {
      "cell_type": "code",
      "source": [
        "# str.upper() ->function\n",
        "# If you need to convert the entire string to uppercase\n",
        "a = \" i love football .\"\n",
        "b = a.upper()\n",
        "print(a)\n",
        "print(b)\n",
        "print()\n",
        "\n",
        "#str.lower()  ->lower\n",
        "# If you need to convert the entire string to lowercase\n",
        "c = \"I AM A CODER\"\n",
        "d = c.lower()\n",
        "print(c)\n",
        "print(d)"
      ],
      "metadata": {
        "colab": {
          "base_uri": "https://localhost:8080/"
        },
        "id": "Ph34r3-wW7hO",
        "outputId": "88f1e64c-5e4d-4d5e-f6dd-8bef33151938"
      },
      "execution_count": null,
      "outputs": [
        {
          "output_type": "stream",
          "name": "stdout",
          "text": [
            " i love football .\n",
            " I LOVE FOOTBALL .\n",
            "\n",
            "I AM A CODER\n",
            "i am a coder\n"
          ]
        }
      ]
    },
    {
      "cell_type": "markdown",
      "source": [
        "Task 6\n",
        "\n",
        "WAP to prompt user to enter a sentence and encode the sentence as per below conditions: if word is at an odd position: reverse the word if word is at an even position: Captalize the first letter of the word Print the encoded message.\n",
        "\n",
        "Sample input:hi how are you\n",
        "\n",
        "Sample output:Hi woh Are uoy"
      ],
      "metadata": {
        "id": "AZYCY3uHdNAu"
      }
    },
    {
      "cell_type": "code",
      "source": [
        "# method 1\n",
        "# code written by me .\n",
        "\n",
        "text = input(\"Enter a string to encode .\")\n",
        "print(str1)\n",
        "text2 = []\n",
        "for i, c in enumerate(text.split()):\n",
        "  if i % 2 == 0:\n",
        "    t2 = c.capitalize()\n",
        "    text2.append(t2)\n",
        "  else :\n",
        "    t3 = c[::-1]\n",
        "    text2.append(t3)\n",
        "print(text2)\n",
        "text3 = \" \".join(text2)\n",
        "print(text3)"
      ],
      "metadata": {
        "colab": {
          "base_uri": "https://localhost:8080/"
        },
        "id": "qhSGCnNTSa1n",
        "outputId": "b9bc2ea6-6723-4bbe-d3bc-bfc641d04b35"
      },
      "execution_count": null,
      "outputs": [
        {
          "output_type": "stream",
          "name": "stdout",
          "text": [
            "Enter a string to encode .hi how are you\n",
            "hi hoe are you\n",
            "['Hi', 'woh', 'Are', 'uoy']\n",
            "Hi woh Are uoy\n"
          ]
        }
      ]
    },
    {
      "cell_type": "code",
      "source": [
        "# method 2\n",
        "# user define function method .\n",
        "\n",
        "def encode_sentence(sentence):   # define a function .\n",
        "  encoded_words = []\n",
        "  for i, word in enumerate(sentence.split()):\n",
        "    if i % 2 == 0:\n",
        "      encoded_words.append(word.capitalize())\n",
        "    else:\n",
        "      encoded_words.append(word[::-1])\n",
        "\n",
        "  return \" \".join(encoded_words)\n",
        "\n",
        "# Get user input and encode the sentence\n",
        "sentence = input(\"Enter a sentence: \")\n",
        "encoded_sentence = encode_sentence(sentence)\n",
        "print(\"Encoded message:\", encoded_sentence)"
      ],
      "metadata": {
        "id": "LJBwDf4ScEac"
      },
      "execution_count": null,
      "outputs": []
    },
    {
      "cell_type": "code",
      "source": [
        "# Exact output code for lab task 6\n",
        "text = input()\n",
        "text2 = []\n",
        "for i, c in enumerate(text.split()):\n",
        "  if i % 2 == 0:\n",
        "    t2 = c.capitalize()\n",
        "    text2.append(t2)\n",
        "  else :\n",
        "    t3 = c[::-1]\n",
        "    text2.append(t3)\n",
        "text3 = \" \".join(text2)\n",
        "print(text3)"
      ],
      "metadata": {
        "id": "KI-tu508dhev"
      },
      "execution_count": null,
      "outputs": []
    },
    {
      "cell_type": "markdown",
      "source": [
        "Task 7\n",
        "\n",
        "WAP to check whether a number is armstrong number or not.\n",
        "A number of 'n' number of digits is called as armstrong number if, sum of its every digit to the power of 'n' is equal to the actual number.\n",
        "\n",
        "Eg:\n",
        "\n",
        "num=153\n",
        "\n",
        "n=3 (number of digits)\n",
        "\n",
        "pow(1,n)+pow(5,n)+pow(3,n)=1+125+27=153\n",
        "\n",
        "You can import pow from math package\n"
      ],
      "metadata": {
        "id": "3ruWJRduexw1"
      }
    },
    {
      "cell_type": "code",
      "source": [
        "a = input(\"Enter a numbr :\")\n",
        "g = int(a)\n",
        "b = list(a)\n",
        "print(b)\n",
        "c = len(b)\n",
        "d = 0\n",
        "for i,j in enumerate(b):\n",
        "  f = int(j)\n",
        "  e = f**c\n",
        "  d = d + e\n",
        "print(d)\n",
        "if d == g :\n",
        "  print(f\"{g} is an armstrong number\")\n",
        "else :\n",
        "  print(f\"{g} is not an armstrong number\")\n",
        "\n",
        "\n"
      ],
      "metadata": {
        "colab": {
          "base_uri": "https://localhost:8080/"
        },
        "id": "MMDqcabCe4hb",
        "outputId": "473a1aec-ac65-47ae-d7b4-96c4b8521bc7"
      },
      "execution_count": null,
      "outputs": [
        {
          "output_type": "stream",
          "name": "stdout",
          "text": [
            "Enter a numbr :153\n",
            "['1', '5', '3']\n",
            "153\n",
            "153 is an armstrong number\n"
          ]
        }
      ]
    },
    {
      "cell_type": "code",
      "source": [
        "# lab expexted code .\n",
        "a = input()\n",
        "g = int(a)\n",
        "b = list(a)\n",
        "c = len(b)\n",
        "d = 0\n",
        "for i,j in enumerate(b):\n",
        "  f = int(j)\n",
        "  e = f**c\n",
        "  d = d + e\n",
        "if d == g :\n",
        "  print(f\"{g} is an armstrong number\")\n",
        "else :\n",
        "  print(f\"{g} is not an armstrong number\")"
      ],
      "metadata": {
        "id": "WrCxDWVQlBmm"
      },
      "execution_count": null,
      "outputs": []
    }
  ]
}